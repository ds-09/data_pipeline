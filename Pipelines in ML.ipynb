{
 "cells": [
  {
   "cell_type": "code",
   "execution_count": 3,
   "id": "10dffac1",
   "metadata": {},
   "outputs": [],
   "source": [
    "from sklearn.pipeline import Pipeline\n",
    "##feature scaling\n",
    "from sklearn.preprocessing import StandardScaler  ##transformation technique\n",
    "from sklearn.linear_model import LogisticRegression #here LogiReg is the estimator"
   ]
  },
  {
   "cell_type": "code",
   "execution_count": 8,
   "id": "a8b44d3a",
   "metadata": {},
   "outputs": [],
   "source": [
    "steps=[(\"standard_scaler\",StandardScaler()),(\"classifier\",LogisticRegression())]  #given in key-value pairs"
   ]
  },
  {
   "cell_type": "code",
   "execution_count": 9,
   "id": "7f8c23e6",
   "metadata": {},
   "outputs": [
    {
     "data": {
      "text/plain": [
       "[('standard_scaler', StandardScaler()), ('classifier', LogisticRegression())]"
      ]
     },
     "execution_count": 9,
     "metadata": {},
     "output_type": "execute_result"
    }
   ],
   "source": [
    "steps\n"
   ]
  },
  {
   "cell_type": "code",
   "execution_count": 11,
   "id": "cafc28f6",
   "metadata": {
    "scrolled": true
   },
   "outputs": [],
   "source": [
    "pipe=Pipeline(steps)"
   ]
  },
  {
   "cell_type": "code",
   "execution_count": 14,
   "id": "2aa75028",
   "metadata": {},
   "outputs": [],
   "source": [
    "##visualising pipeline\n",
    "from sklearn import set_config\n"
   ]
  },
  {
   "cell_type": "code",
   "execution_count": 15,
   "id": "499ee889",
   "metadata": {},
   "outputs": [],
   "source": [
    "set_config(display=\"diagram\")"
   ]
  },
  {
   "cell_type": "code",
   "execution_count": 16,
   "id": "c0b7538a",
   "metadata": {},
   "outputs": [
    {
     "data": {
      "text/html": [
       "<style>#sk-1c544699-3595-4f32-8c8c-fc124f607e79 {color: black;background-color: white;}#sk-1c544699-3595-4f32-8c8c-fc124f607e79 pre{padding: 0;}#sk-1c544699-3595-4f32-8c8c-fc124f607e79 div.sk-toggleable {background-color: white;}#sk-1c544699-3595-4f32-8c8c-fc124f607e79 label.sk-toggleable__label {cursor: pointer;display: block;width: 100%;margin-bottom: 0;padding: 0.3em;box-sizing: border-box;text-align: center;}#sk-1c544699-3595-4f32-8c8c-fc124f607e79 label.sk-toggleable__label-arrow:before {content: \"▸\";float: left;margin-right: 0.25em;color: #696969;}#sk-1c544699-3595-4f32-8c8c-fc124f607e79 label.sk-toggleable__label-arrow:hover:before {color: black;}#sk-1c544699-3595-4f32-8c8c-fc124f607e79 div.sk-estimator:hover label.sk-toggleable__label-arrow:before {color: black;}#sk-1c544699-3595-4f32-8c8c-fc124f607e79 div.sk-toggleable__content {max-height: 0;max-width: 0;overflow: hidden;text-align: left;background-color: #f0f8ff;}#sk-1c544699-3595-4f32-8c8c-fc124f607e79 div.sk-toggleable__content pre {margin: 0.2em;color: black;border-radius: 0.25em;background-color: #f0f8ff;}#sk-1c544699-3595-4f32-8c8c-fc124f607e79 input.sk-toggleable__control:checked~div.sk-toggleable__content {max-height: 200px;max-width: 100%;overflow: auto;}#sk-1c544699-3595-4f32-8c8c-fc124f607e79 input.sk-toggleable__control:checked~label.sk-toggleable__label-arrow:before {content: \"▾\";}#sk-1c544699-3595-4f32-8c8c-fc124f607e79 div.sk-estimator input.sk-toggleable__control:checked~label.sk-toggleable__label {background-color: #d4ebff;}#sk-1c544699-3595-4f32-8c8c-fc124f607e79 div.sk-label input.sk-toggleable__control:checked~label.sk-toggleable__label {background-color: #d4ebff;}#sk-1c544699-3595-4f32-8c8c-fc124f607e79 input.sk-hidden--visually {border: 0;clip: rect(1px 1px 1px 1px);clip: rect(1px, 1px, 1px, 1px);height: 1px;margin: -1px;overflow: hidden;padding: 0;position: absolute;width: 1px;}#sk-1c544699-3595-4f32-8c8c-fc124f607e79 div.sk-estimator {font-family: monospace;background-color: #f0f8ff;border: 1px dotted black;border-radius: 0.25em;box-sizing: border-box;margin-bottom: 0.5em;}#sk-1c544699-3595-4f32-8c8c-fc124f607e79 div.sk-estimator:hover {background-color: #d4ebff;}#sk-1c544699-3595-4f32-8c8c-fc124f607e79 div.sk-parallel-item::after {content: \"\";width: 100%;border-bottom: 1px solid gray;flex-grow: 1;}#sk-1c544699-3595-4f32-8c8c-fc124f607e79 div.sk-label:hover label.sk-toggleable__label {background-color: #d4ebff;}#sk-1c544699-3595-4f32-8c8c-fc124f607e79 div.sk-serial::before {content: \"\";position: absolute;border-left: 1px solid gray;box-sizing: border-box;top: 2em;bottom: 0;left: 50%;}#sk-1c544699-3595-4f32-8c8c-fc124f607e79 div.sk-serial {display: flex;flex-direction: column;align-items: center;background-color: white;padding-right: 0.2em;padding-left: 0.2em;}#sk-1c544699-3595-4f32-8c8c-fc124f607e79 div.sk-item {z-index: 1;}#sk-1c544699-3595-4f32-8c8c-fc124f607e79 div.sk-parallel {display: flex;align-items: stretch;justify-content: center;background-color: white;}#sk-1c544699-3595-4f32-8c8c-fc124f607e79 div.sk-parallel::before {content: \"\";position: absolute;border-left: 1px solid gray;box-sizing: border-box;top: 2em;bottom: 0;left: 50%;}#sk-1c544699-3595-4f32-8c8c-fc124f607e79 div.sk-parallel-item {display: flex;flex-direction: column;position: relative;background-color: white;}#sk-1c544699-3595-4f32-8c8c-fc124f607e79 div.sk-parallel-item:first-child::after {align-self: flex-end;width: 50%;}#sk-1c544699-3595-4f32-8c8c-fc124f607e79 div.sk-parallel-item:last-child::after {align-self: flex-start;width: 50%;}#sk-1c544699-3595-4f32-8c8c-fc124f607e79 div.sk-parallel-item:only-child::after {width: 0;}#sk-1c544699-3595-4f32-8c8c-fc124f607e79 div.sk-dashed-wrapped {border: 1px dashed gray;margin: 0 0.4em 0.5em 0.4em;box-sizing: border-box;padding-bottom: 0.4em;background-color: white;position: relative;}#sk-1c544699-3595-4f32-8c8c-fc124f607e79 div.sk-label label {font-family: monospace;font-weight: bold;background-color: white;display: inline-block;line-height: 1.2em;}#sk-1c544699-3595-4f32-8c8c-fc124f607e79 div.sk-label-container {position: relative;z-index: 2;text-align: center;}#sk-1c544699-3595-4f32-8c8c-fc124f607e79 div.sk-container {/* jupyter's `normalize.less` sets `[hidden] { display: none; }` but bootstrap.min.css set `[hidden] { display: none !important; }` so we also need the `!important` here to be able to override the default hidden behavior on the sphinx rendered scikit-learn.org. See: https://github.com/scikit-learn/scikit-learn/issues/21755 */display: inline-block !important;position: relative;}#sk-1c544699-3595-4f32-8c8c-fc124f607e79 div.sk-text-repr-fallback {display: none;}</style><div id=\"sk-1c544699-3595-4f32-8c8c-fc124f607e79\" class=\"sk-top-container\"><div class=\"sk-text-repr-fallback\"><pre>Pipeline(steps=[(&#x27;standard_scaler&#x27;, StandardScaler()),\n",
       "                (&#x27;classifier&#x27;, LogisticRegression())])</pre><b>Please rerun this cell to show the HTML repr or trust the notebook.</b></div><div class=\"sk-container\" hidden><div class=\"sk-item sk-dashed-wrapped\"><div class=\"sk-label-container\"><div class=\"sk-label sk-toggleable\"><input class=\"sk-toggleable__control sk-hidden--visually\" id=\"16c949c5-eaa1-4183-90ab-b2e29af06ba6\" type=\"checkbox\" ><label for=\"16c949c5-eaa1-4183-90ab-b2e29af06ba6\" class=\"sk-toggleable__label sk-toggleable__label-arrow\">Pipeline</label><div class=\"sk-toggleable__content\"><pre>Pipeline(steps=[(&#x27;standard_scaler&#x27;, StandardScaler()),\n",
       "                (&#x27;classifier&#x27;, LogisticRegression())])</pre></div></div></div><div class=\"sk-serial\"><div class=\"sk-item\"><div class=\"sk-estimator sk-toggleable\"><input class=\"sk-toggleable__control sk-hidden--visually\" id=\"5be6a70e-160a-46c9-a8d5-3e5e83482a67\" type=\"checkbox\" ><label for=\"5be6a70e-160a-46c9-a8d5-3e5e83482a67\" class=\"sk-toggleable__label sk-toggleable__label-arrow\">StandardScaler</label><div class=\"sk-toggleable__content\"><pre>StandardScaler()</pre></div></div></div><div class=\"sk-item\"><div class=\"sk-estimator sk-toggleable\"><input class=\"sk-toggleable__control sk-hidden--visually\" id=\"e9ad5ddd-3756-481e-9205-8f5fa386e7df\" type=\"checkbox\" ><label for=\"e9ad5ddd-3756-481e-9205-8f5fa386e7df\" class=\"sk-toggleable__label sk-toggleable__label-arrow\">LogisticRegression</label><div class=\"sk-toggleable__content\"><pre>LogisticRegression()</pre></div></div></div></div></div></div></div>"
      ],
      "text/plain": [
       "Pipeline(steps=[('standard_scaler', StandardScaler()),\n",
       "                ('classifier', LogisticRegression())])"
      ]
     },
     "execution_count": 16,
     "metadata": {},
     "output_type": "execute_result"
    }
   ],
   "source": [
    "pipe\n"
   ]
  },
  {
   "cell_type": "code",
   "execution_count": 20,
   "id": "08539489",
   "metadata": {},
   "outputs": [],
   "source": [
    "##creating dataset\n",
    "from sklearn.datasets import make_classification\n",
    "X,y=make_classification(n_samples=1000) ##X=(noOfSamples, features),y=no of classes\n"
   ]
  },
  {
   "cell_type": "code",
   "execution_count": 21,
   "id": "9db00215",
   "metadata": {},
   "outputs": [
    {
     "data": {
      "text/plain": [
       "(1000, 20)"
      ]
     },
     "execution_count": 21,
     "metadata": {},
     "output_type": "execute_result"
    }
   ],
   "source": [
    "X.shape"
   ]
  },
  {
   "cell_type": "code",
   "execution_count": 24,
   "id": "80856fd6",
   "metadata": {},
   "outputs": [],
   "source": [
    "from sklearn.model_selection import train_test_split\n",
    "X_train, X_test,y_train, y_test=train_test_split(X,y,test_size=0.33, random_state=42)"
   ]
  },
  {
   "cell_type": "code",
   "execution_count": 25,
   "id": "c9c33ea1",
   "metadata": {},
   "outputs": [
    {
     "data": {
      "text/plain": [
       "array([[-0.15725379,  0.80234777,  0.43786653, ...,  0.84511926,\n",
       "         0.21131135, -0.34122549],\n",
       "       [ 0.7904378 , -0.21332024, -0.86666692, ...,  2.0404769 ,\n",
       "         0.90217638,  1.1396531 ],\n",
       "       [-0.20580487,  0.98324571,  0.55561128, ..., -0.57382475,\n",
       "        -0.28016098, -1.6529773 ],\n",
       "       ...,\n",
       "       [ 1.12007021,  3.10238656, -0.24206705, ...,  1.55895094,\n",
       "        -0.79686687,  0.57045684],\n",
       "       [-0.14778672, -0.17439846, -1.17973038, ...,  0.73966785,\n",
       "         0.32562139, -2.15624101],\n",
       "       [ 0.26253458, -0.8256153 , -0.50386978, ..., -0.77701164,\n",
       "         1.0823975 ,  2.21729117]])"
      ]
     },
     "execution_count": 25,
     "metadata": {},
     "output_type": "execute_result"
    }
   ],
   "source": [
    "X_train"
   ]
  },
  {
   "cell_type": "code",
   "execution_count": 27,
   "id": "9df55178",
   "metadata": {},
   "outputs": [
    {
     "data": {
      "text/html": [
       "<style>#sk-66383d8a-a07d-40cc-accf-20bb91c96079 {color: black;background-color: white;}#sk-66383d8a-a07d-40cc-accf-20bb91c96079 pre{padding: 0;}#sk-66383d8a-a07d-40cc-accf-20bb91c96079 div.sk-toggleable {background-color: white;}#sk-66383d8a-a07d-40cc-accf-20bb91c96079 label.sk-toggleable__label {cursor: pointer;display: block;width: 100%;margin-bottom: 0;padding: 0.3em;box-sizing: border-box;text-align: center;}#sk-66383d8a-a07d-40cc-accf-20bb91c96079 label.sk-toggleable__label-arrow:before {content: \"▸\";float: left;margin-right: 0.25em;color: #696969;}#sk-66383d8a-a07d-40cc-accf-20bb91c96079 label.sk-toggleable__label-arrow:hover:before {color: black;}#sk-66383d8a-a07d-40cc-accf-20bb91c96079 div.sk-estimator:hover label.sk-toggleable__label-arrow:before {color: black;}#sk-66383d8a-a07d-40cc-accf-20bb91c96079 div.sk-toggleable__content {max-height: 0;max-width: 0;overflow: hidden;text-align: left;background-color: #f0f8ff;}#sk-66383d8a-a07d-40cc-accf-20bb91c96079 div.sk-toggleable__content pre {margin: 0.2em;color: black;border-radius: 0.25em;background-color: #f0f8ff;}#sk-66383d8a-a07d-40cc-accf-20bb91c96079 input.sk-toggleable__control:checked~div.sk-toggleable__content {max-height: 200px;max-width: 100%;overflow: auto;}#sk-66383d8a-a07d-40cc-accf-20bb91c96079 input.sk-toggleable__control:checked~label.sk-toggleable__label-arrow:before {content: \"▾\";}#sk-66383d8a-a07d-40cc-accf-20bb91c96079 div.sk-estimator input.sk-toggleable__control:checked~label.sk-toggleable__label {background-color: #d4ebff;}#sk-66383d8a-a07d-40cc-accf-20bb91c96079 div.sk-label input.sk-toggleable__control:checked~label.sk-toggleable__label {background-color: #d4ebff;}#sk-66383d8a-a07d-40cc-accf-20bb91c96079 input.sk-hidden--visually {border: 0;clip: rect(1px 1px 1px 1px);clip: rect(1px, 1px, 1px, 1px);height: 1px;margin: -1px;overflow: hidden;padding: 0;position: absolute;width: 1px;}#sk-66383d8a-a07d-40cc-accf-20bb91c96079 div.sk-estimator {font-family: monospace;background-color: #f0f8ff;border: 1px dotted black;border-radius: 0.25em;box-sizing: border-box;margin-bottom: 0.5em;}#sk-66383d8a-a07d-40cc-accf-20bb91c96079 div.sk-estimator:hover {background-color: #d4ebff;}#sk-66383d8a-a07d-40cc-accf-20bb91c96079 div.sk-parallel-item::after {content: \"\";width: 100%;border-bottom: 1px solid gray;flex-grow: 1;}#sk-66383d8a-a07d-40cc-accf-20bb91c96079 div.sk-label:hover label.sk-toggleable__label {background-color: #d4ebff;}#sk-66383d8a-a07d-40cc-accf-20bb91c96079 div.sk-serial::before {content: \"\";position: absolute;border-left: 1px solid gray;box-sizing: border-box;top: 2em;bottom: 0;left: 50%;}#sk-66383d8a-a07d-40cc-accf-20bb91c96079 div.sk-serial {display: flex;flex-direction: column;align-items: center;background-color: white;padding-right: 0.2em;padding-left: 0.2em;}#sk-66383d8a-a07d-40cc-accf-20bb91c96079 div.sk-item {z-index: 1;}#sk-66383d8a-a07d-40cc-accf-20bb91c96079 div.sk-parallel {display: flex;align-items: stretch;justify-content: center;background-color: white;}#sk-66383d8a-a07d-40cc-accf-20bb91c96079 div.sk-parallel::before {content: \"\";position: absolute;border-left: 1px solid gray;box-sizing: border-box;top: 2em;bottom: 0;left: 50%;}#sk-66383d8a-a07d-40cc-accf-20bb91c96079 div.sk-parallel-item {display: flex;flex-direction: column;position: relative;background-color: white;}#sk-66383d8a-a07d-40cc-accf-20bb91c96079 div.sk-parallel-item:first-child::after {align-self: flex-end;width: 50%;}#sk-66383d8a-a07d-40cc-accf-20bb91c96079 div.sk-parallel-item:last-child::after {align-self: flex-start;width: 50%;}#sk-66383d8a-a07d-40cc-accf-20bb91c96079 div.sk-parallel-item:only-child::after {width: 0;}#sk-66383d8a-a07d-40cc-accf-20bb91c96079 div.sk-dashed-wrapped {border: 1px dashed gray;margin: 0 0.4em 0.5em 0.4em;box-sizing: border-box;padding-bottom: 0.4em;background-color: white;position: relative;}#sk-66383d8a-a07d-40cc-accf-20bb91c96079 div.sk-label label {font-family: monospace;font-weight: bold;background-color: white;display: inline-block;line-height: 1.2em;}#sk-66383d8a-a07d-40cc-accf-20bb91c96079 div.sk-label-container {position: relative;z-index: 2;text-align: center;}#sk-66383d8a-a07d-40cc-accf-20bb91c96079 div.sk-container {/* jupyter's `normalize.less` sets `[hidden] { display: none; }` but bootstrap.min.css set `[hidden] { display: none !important; }` so we also need the `!important` here to be able to override the default hidden behavior on the sphinx rendered scikit-learn.org. See: https://github.com/scikit-learn/scikit-learn/issues/21755 */display: inline-block !important;position: relative;}#sk-66383d8a-a07d-40cc-accf-20bb91c96079 div.sk-text-repr-fallback {display: none;}</style><div id=\"sk-66383d8a-a07d-40cc-accf-20bb91c96079\" class=\"sk-top-container\"><div class=\"sk-text-repr-fallback\"><pre>Pipeline(steps=[(&#x27;standard_scaler&#x27;, StandardScaler()),\n",
       "                (&#x27;classifier&#x27;, LogisticRegression())])</pre><b>Please rerun this cell to show the HTML repr or trust the notebook.</b></div><div class=\"sk-container\" hidden><div class=\"sk-item sk-dashed-wrapped\"><div class=\"sk-label-container\"><div class=\"sk-label sk-toggleable\"><input class=\"sk-toggleable__control sk-hidden--visually\" id=\"1734bed7-61bf-4cf5-900b-10b09c04491d\" type=\"checkbox\" ><label for=\"1734bed7-61bf-4cf5-900b-10b09c04491d\" class=\"sk-toggleable__label sk-toggleable__label-arrow\">Pipeline</label><div class=\"sk-toggleable__content\"><pre>Pipeline(steps=[(&#x27;standard_scaler&#x27;, StandardScaler()),\n",
       "                (&#x27;classifier&#x27;, LogisticRegression())])</pre></div></div></div><div class=\"sk-serial\"><div class=\"sk-item\"><div class=\"sk-estimator sk-toggleable\"><input class=\"sk-toggleable__control sk-hidden--visually\" id=\"9a865fc6-db70-4e96-ba5e-9995f5843c6b\" type=\"checkbox\" ><label for=\"9a865fc6-db70-4e96-ba5e-9995f5843c6b\" class=\"sk-toggleable__label sk-toggleable__label-arrow\">StandardScaler</label><div class=\"sk-toggleable__content\"><pre>StandardScaler()</pre></div></div></div><div class=\"sk-item\"><div class=\"sk-estimator sk-toggleable\"><input class=\"sk-toggleable__control sk-hidden--visually\" id=\"2ca4f613-ca2a-415d-9d5f-d25faf585c52\" type=\"checkbox\" ><label for=\"2ca4f613-ca2a-415d-9d5f-d25faf585c52\" class=\"sk-toggleable__label sk-toggleable__label-arrow\">LogisticRegression</label><div class=\"sk-toggleable__content\"><pre>LogisticRegression()</pre></div></div></div></div></div></div></div>"
      ],
      "text/plain": [
       "Pipeline(steps=[('standard_scaler', StandardScaler()),\n",
       "                ('classifier', LogisticRegression())])"
      ]
     },
     "execution_count": 27,
     "metadata": {},
     "output_type": "execute_result"
    }
   ],
   "source": [
    "pipe.fit(X_train,y_train)"
   ]
  },
  {
   "cell_type": "code",
   "execution_count": 28,
   "id": "ed47e0e1",
   "metadata": {},
   "outputs": [],
   "source": [
    "y_pred=pipe.predict(X_test)"
   ]
  },
  {
   "cell_type": "code",
   "execution_count": 29,
   "id": "d8de051e",
   "metadata": {},
   "outputs": [
    {
     "data": {
      "text/plain": [
       "array([0, 1, 0, 1, 1, 0, 1, 0, 1, 1, 0, 0, 0, 1, 0, 0, 0, 0, 1, 1, 0, 1,\n",
       "       0, 1, 0, 0, 0, 0, 0, 1, 0, 1, 0, 1, 1, 0, 0, 1, 0, 0, 1, 1, 0, 1,\n",
       "       0, 0, 0, 0, 1, 1, 0, 0, 0, 1, 0, 1, 1, 0, 1, 1, 1, 1, 0, 0, 1, 0,\n",
       "       0, 1, 1, 0, 0, 1, 1, 1, 0, 0, 0, 0, 1, 1, 0, 0, 0, 0, 0, 1, 1, 0,\n",
       "       1, 1, 0, 0, 0, 1, 1, 1, 1, 1, 1, 1, 1, 0, 1, 1, 1, 1, 1, 1, 1, 1,\n",
       "       0, 1, 1, 0, 1, 0, 0, 1, 1, 1, 0, 1, 0, 0, 0, 0, 1, 0, 0, 1, 1, 1,\n",
       "       0, 1, 1, 0, 0, 1, 0, 1, 1, 0, 1, 0, 1, 0, 1, 0, 0, 1, 1, 1, 1, 0,\n",
       "       1, 0, 0, 1, 1, 1, 1, 0, 0, 0, 1, 0, 0, 1, 0, 0, 0, 1, 1, 0, 0, 0,\n",
       "       0, 0, 0, 1, 1, 1, 1, 1, 0, 0, 1, 0, 1, 1, 1, 0, 1, 0, 0, 0, 1, 1,\n",
       "       0, 1, 0, 0, 0, 1, 1, 1, 1, 0, 1, 0, 0, 0, 1, 0, 0, 0, 1, 0, 0, 0,\n",
       "       1, 0, 1, 1, 1, 1, 0, 1, 1, 1, 0, 1, 1, 1, 0, 1, 0, 0, 1, 0, 0, 1,\n",
       "       1, 0, 0, 1, 1, 0, 1, 1, 1, 0, 0, 0, 1, 1, 0, 0, 1, 0, 1, 1, 0, 1,\n",
       "       1, 1, 1, 0, 0, 1, 0, 1, 1, 1, 1, 1, 1, 0, 0, 0, 1, 0, 1, 0, 0, 1,\n",
       "       1, 0, 0, 0, 0, 0, 1, 1, 0, 1, 1, 1, 1, 0, 1, 1, 1, 0, 1, 1, 1, 1,\n",
       "       1, 1, 0, 1, 0, 1, 0, 0, 0, 0, 0, 0, 1, 0, 0, 1, 0, 1, 0, 0, 1, 0])"
      ]
     },
     "execution_count": 29,
     "metadata": {},
     "output_type": "execute_result"
    }
   ],
   "source": [
    "y_pred"
   ]
  },
  {
   "cell_type": "markdown",
   "id": "a1b7615a",
   "metadata": {},
   "source": [
    "Display a pipeline with standard scaler, dimensionality reduction and then estimator"
   ]
  },
  {
   "cell_type": "code",
   "execution_count": 32,
   "id": "d8231f87",
   "metadata": {},
   "outputs": [],
   "source": [
    "from sklearn.decomposition import PCA\n",
    "from sklearn.svm import SVC"
   ]
  },
  {
   "cell_type": "code",
   "execution_count": 34,
   "id": "39ff82c8",
   "metadata": {},
   "outputs": [],
   "source": [
    "steps=[(\"scaling\",StandardScaler()),(\"PCA\",PCA(n_components=3)),(\"SVC\",SVC())]"
   ]
  },
  {
   "cell_type": "code",
   "execution_count": 37,
   "id": "8f9d9cc6",
   "metadata": {},
   "outputs": [
    {
     "data": {
      "text/html": [
       "<style>#sk-7bb53200-2ab5-4671-b1cf-c35ac8b7c62a {color: black;background-color: white;}#sk-7bb53200-2ab5-4671-b1cf-c35ac8b7c62a pre{padding: 0;}#sk-7bb53200-2ab5-4671-b1cf-c35ac8b7c62a div.sk-toggleable {background-color: white;}#sk-7bb53200-2ab5-4671-b1cf-c35ac8b7c62a label.sk-toggleable__label {cursor: pointer;display: block;width: 100%;margin-bottom: 0;padding: 0.3em;box-sizing: border-box;text-align: center;}#sk-7bb53200-2ab5-4671-b1cf-c35ac8b7c62a label.sk-toggleable__label-arrow:before {content: \"▸\";float: left;margin-right: 0.25em;color: #696969;}#sk-7bb53200-2ab5-4671-b1cf-c35ac8b7c62a label.sk-toggleable__label-arrow:hover:before {color: black;}#sk-7bb53200-2ab5-4671-b1cf-c35ac8b7c62a div.sk-estimator:hover label.sk-toggleable__label-arrow:before {color: black;}#sk-7bb53200-2ab5-4671-b1cf-c35ac8b7c62a div.sk-toggleable__content {max-height: 0;max-width: 0;overflow: hidden;text-align: left;background-color: #f0f8ff;}#sk-7bb53200-2ab5-4671-b1cf-c35ac8b7c62a div.sk-toggleable__content pre {margin: 0.2em;color: black;border-radius: 0.25em;background-color: #f0f8ff;}#sk-7bb53200-2ab5-4671-b1cf-c35ac8b7c62a input.sk-toggleable__control:checked~div.sk-toggleable__content {max-height: 200px;max-width: 100%;overflow: auto;}#sk-7bb53200-2ab5-4671-b1cf-c35ac8b7c62a input.sk-toggleable__control:checked~label.sk-toggleable__label-arrow:before {content: \"▾\";}#sk-7bb53200-2ab5-4671-b1cf-c35ac8b7c62a div.sk-estimator input.sk-toggleable__control:checked~label.sk-toggleable__label {background-color: #d4ebff;}#sk-7bb53200-2ab5-4671-b1cf-c35ac8b7c62a div.sk-label input.sk-toggleable__control:checked~label.sk-toggleable__label {background-color: #d4ebff;}#sk-7bb53200-2ab5-4671-b1cf-c35ac8b7c62a input.sk-hidden--visually {border: 0;clip: rect(1px 1px 1px 1px);clip: rect(1px, 1px, 1px, 1px);height: 1px;margin: -1px;overflow: hidden;padding: 0;position: absolute;width: 1px;}#sk-7bb53200-2ab5-4671-b1cf-c35ac8b7c62a div.sk-estimator {font-family: monospace;background-color: #f0f8ff;border: 1px dotted black;border-radius: 0.25em;box-sizing: border-box;margin-bottom: 0.5em;}#sk-7bb53200-2ab5-4671-b1cf-c35ac8b7c62a div.sk-estimator:hover {background-color: #d4ebff;}#sk-7bb53200-2ab5-4671-b1cf-c35ac8b7c62a div.sk-parallel-item::after {content: \"\";width: 100%;border-bottom: 1px solid gray;flex-grow: 1;}#sk-7bb53200-2ab5-4671-b1cf-c35ac8b7c62a div.sk-label:hover label.sk-toggleable__label {background-color: #d4ebff;}#sk-7bb53200-2ab5-4671-b1cf-c35ac8b7c62a div.sk-serial::before {content: \"\";position: absolute;border-left: 1px solid gray;box-sizing: border-box;top: 2em;bottom: 0;left: 50%;}#sk-7bb53200-2ab5-4671-b1cf-c35ac8b7c62a div.sk-serial {display: flex;flex-direction: column;align-items: center;background-color: white;padding-right: 0.2em;padding-left: 0.2em;}#sk-7bb53200-2ab5-4671-b1cf-c35ac8b7c62a div.sk-item {z-index: 1;}#sk-7bb53200-2ab5-4671-b1cf-c35ac8b7c62a div.sk-parallel {display: flex;align-items: stretch;justify-content: center;background-color: white;}#sk-7bb53200-2ab5-4671-b1cf-c35ac8b7c62a div.sk-parallel::before {content: \"\";position: absolute;border-left: 1px solid gray;box-sizing: border-box;top: 2em;bottom: 0;left: 50%;}#sk-7bb53200-2ab5-4671-b1cf-c35ac8b7c62a div.sk-parallel-item {display: flex;flex-direction: column;position: relative;background-color: white;}#sk-7bb53200-2ab5-4671-b1cf-c35ac8b7c62a div.sk-parallel-item:first-child::after {align-self: flex-end;width: 50%;}#sk-7bb53200-2ab5-4671-b1cf-c35ac8b7c62a div.sk-parallel-item:last-child::after {align-self: flex-start;width: 50%;}#sk-7bb53200-2ab5-4671-b1cf-c35ac8b7c62a div.sk-parallel-item:only-child::after {width: 0;}#sk-7bb53200-2ab5-4671-b1cf-c35ac8b7c62a div.sk-dashed-wrapped {border: 1px dashed gray;margin: 0 0.4em 0.5em 0.4em;box-sizing: border-box;padding-bottom: 0.4em;background-color: white;position: relative;}#sk-7bb53200-2ab5-4671-b1cf-c35ac8b7c62a div.sk-label label {font-family: monospace;font-weight: bold;background-color: white;display: inline-block;line-height: 1.2em;}#sk-7bb53200-2ab5-4671-b1cf-c35ac8b7c62a div.sk-label-container {position: relative;z-index: 2;text-align: center;}#sk-7bb53200-2ab5-4671-b1cf-c35ac8b7c62a div.sk-container {/* jupyter's `normalize.less` sets `[hidden] { display: none; }` but bootstrap.min.css set `[hidden] { display: none !important; }` so we also need the `!important` here to be able to override the default hidden behavior on the sphinx rendered scikit-learn.org. See: https://github.com/scikit-learn/scikit-learn/issues/21755 */display: inline-block !important;position: relative;}#sk-7bb53200-2ab5-4671-b1cf-c35ac8b7c62a div.sk-text-repr-fallback {display: none;}</style><div id=\"sk-7bb53200-2ab5-4671-b1cf-c35ac8b7c62a\" class=\"sk-top-container\"><div class=\"sk-text-repr-fallback\"><pre>Pipeline(steps=[(&#x27;scaling&#x27;, StandardScaler()), (&#x27;PCA&#x27;, PCA(n_components=3)),\n",
       "                (&#x27;SVC&#x27;, SVC())])</pre><b>Please rerun this cell to show the HTML repr or trust the notebook.</b></div><div class=\"sk-container\" hidden><div class=\"sk-item sk-dashed-wrapped\"><div class=\"sk-label-container\"><div class=\"sk-label sk-toggleable\"><input class=\"sk-toggleable__control sk-hidden--visually\" id=\"fef44a93-d31a-4103-a945-807551a3d733\" type=\"checkbox\" ><label for=\"fef44a93-d31a-4103-a945-807551a3d733\" class=\"sk-toggleable__label sk-toggleable__label-arrow\">Pipeline</label><div class=\"sk-toggleable__content\"><pre>Pipeline(steps=[(&#x27;scaling&#x27;, StandardScaler()), (&#x27;PCA&#x27;, PCA(n_components=3)),\n",
       "                (&#x27;SVC&#x27;, SVC())])</pre></div></div></div><div class=\"sk-serial\"><div class=\"sk-item\"><div class=\"sk-estimator sk-toggleable\"><input class=\"sk-toggleable__control sk-hidden--visually\" id=\"15beba5b-5c91-4de4-849b-af6da041f7a6\" type=\"checkbox\" ><label for=\"15beba5b-5c91-4de4-849b-af6da041f7a6\" class=\"sk-toggleable__label sk-toggleable__label-arrow\">StandardScaler</label><div class=\"sk-toggleable__content\"><pre>StandardScaler()</pre></div></div></div><div class=\"sk-item\"><div class=\"sk-estimator sk-toggleable\"><input class=\"sk-toggleable__control sk-hidden--visually\" id=\"9d41a4a6-cbb4-44f3-9ad5-43fbf857b5df\" type=\"checkbox\" ><label for=\"9d41a4a6-cbb4-44f3-9ad5-43fbf857b5df\" class=\"sk-toggleable__label sk-toggleable__label-arrow\">PCA</label><div class=\"sk-toggleable__content\"><pre>PCA(n_components=3)</pre></div></div></div><div class=\"sk-item\"><div class=\"sk-estimator sk-toggleable\"><input class=\"sk-toggleable__control sk-hidden--visually\" id=\"cc0e329b-c633-4149-8abd-cef4bf83fe5b\" type=\"checkbox\" ><label for=\"cc0e329b-c633-4149-8abd-cef4bf83fe5b\" class=\"sk-toggleable__label sk-toggleable__label-arrow\">SVC</label><div class=\"sk-toggleable__content\"><pre>SVC()</pre></div></div></div></div></div></div></div>"
      ],
      "text/plain": [
       "Pipeline(steps=[('scaling', StandardScaler()), ('PCA', PCA(n_components=3)),\n",
       "                ('SVC', SVC())])"
      ]
     },
     "execution_count": 37,
     "metadata": {},
     "output_type": "execute_result"
    }
   ],
   "source": [
    "pipe2=Pipeline(steps)"
   ]
  },
  {
   "cell_type": "code",
   "execution_count": 39,
   "id": "e7a20a8f",
   "metadata": {},
   "outputs": [
    {
     "data": {
      "text/html": [
       "<style>#sk-6bf3afb8-32db-4413-b590-a424662d212f {color: black;background-color: white;}#sk-6bf3afb8-32db-4413-b590-a424662d212f pre{padding: 0;}#sk-6bf3afb8-32db-4413-b590-a424662d212f div.sk-toggleable {background-color: white;}#sk-6bf3afb8-32db-4413-b590-a424662d212f label.sk-toggleable__label {cursor: pointer;display: block;width: 100%;margin-bottom: 0;padding: 0.3em;box-sizing: border-box;text-align: center;}#sk-6bf3afb8-32db-4413-b590-a424662d212f label.sk-toggleable__label-arrow:before {content: \"▸\";float: left;margin-right: 0.25em;color: #696969;}#sk-6bf3afb8-32db-4413-b590-a424662d212f label.sk-toggleable__label-arrow:hover:before {color: black;}#sk-6bf3afb8-32db-4413-b590-a424662d212f div.sk-estimator:hover label.sk-toggleable__label-arrow:before {color: black;}#sk-6bf3afb8-32db-4413-b590-a424662d212f div.sk-toggleable__content {max-height: 0;max-width: 0;overflow: hidden;text-align: left;background-color: #f0f8ff;}#sk-6bf3afb8-32db-4413-b590-a424662d212f div.sk-toggleable__content pre {margin: 0.2em;color: black;border-radius: 0.25em;background-color: #f0f8ff;}#sk-6bf3afb8-32db-4413-b590-a424662d212f input.sk-toggleable__control:checked~div.sk-toggleable__content {max-height: 200px;max-width: 100%;overflow: auto;}#sk-6bf3afb8-32db-4413-b590-a424662d212f input.sk-toggleable__control:checked~label.sk-toggleable__label-arrow:before {content: \"▾\";}#sk-6bf3afb8-32db-4413-b590-a424662d212f div.sk-estimator input.sk-toggleable__control:checked~label.sk-toggleable__label {background-color: #d4ebff;}#sk-6bf3afb8-32db-4413-b590-a424662d212f div.sk-label input.sk-toggleable__control:checked~label.sk-toggleable__label {background-color: #d4ebff;}#sk-6bf3afb8-32db-4413-b590-a424662d212f input.sk-hidden--visually {border: 0;clip: rect(1px 1px 1px 1px);clip: rect(1px, 1px, 1px, 1px);height: 1px;margin: -1px;overflow: hidden;padding: 0;position: absolute;width: 1px;}#sk-6bf3afb8-32db-4413-b590-a424662d212f div.sk-estimator {font-family: monospace;background-color: #f0f8ff;border: 1px dotted black;border-radius: 0.25em;box-sizing: border-box;margin-bottom: 0.5em;}#sk-6bf3afb8-32db-4413-b590-a424662d212f div.sk-estimator:hover {background-color: #d4ebff;}#sk-6bf3afb8-32db-4413-b590-a424662d212f div.sk-parallel-item::after {content: \"\";width: 100%;border-bottom: 1px solid gray;flex-grow: 1;}#sk-6bf3afb8-32db-4413-b590-a424662d212f div.sk-label:hover label.sk-toggleable__label {background-color: #d4ebff;}#sk-6bf3afb8-32db-4413-b590-a424662d212f div.sk-serial::before {content: \"\";position: absolute;border-left: 1px solid gray;box-sizing: border-box;top: 2em;bottom: 0;left: 50%;}#sk-6bf3afb8-32db-4413-b590-a424662d212f div.sk-serial {display: flex;flex-direction: column;align-items: center;background-color: white;padding-right: 0.2em;padding-left: 0.2em;}#sk-6bf3afb8-32db-4413-b590-a424662d212f div.sk-item {z-index: 1;}#sk-6bf3afb8-32db-4413-b590-a424662d212f div.sk-parallel {display: flex;align-items: stretch;justify-content: center;background-color: white;}#sk-6bf3afb8-32db-4413-b590-a424662d212f div.sk-parallel::before {content: \"\";position: absolute;border-left: 1px solid gray;box-sizing: border-box;top: 2em;bottom: 0;left: 50%;}#sk-6bf3afb8-32db-4413-b590-a424662d212f div.sk-parallel-item {display: flex;flex-direction: column;position: relative;background-color: white;}#sk-6bf3afb8-32db-4413-b590-a424662d212f div.sk-parallel-item:first-child::after {align-self: flex-end;width: 50%;}#sk-6bf3afb8-32db-4413-b590-a424662d212f div.sk-parallel-item:last-child::after {align-self: flex-start;width: 50%;}#sk-6bf3afb8-32db-4413-b590-a424662d212f div.sk-parallel-item:only-child::after {width: 0;}#sk-6bf3afb8-32db-4413-b590-a424662d212f div.sk-dashed-wrapped {border: 1px dashed gray;margin: 0 0.4em 0.5em 0.4em;box-sizing: border-box;padding-bottom: 0.4em;background-color: white;position: relative;}#sk-6bf3afb8-32db-4413-b590-a424662d212f div.sk-label label {font-family: monospace;font-weight: bold;background-color: white;display: inline-block;line-height: 1.2em;}#sk-6bf3afb8-32db-4413-b590-a424662d212f div.sk-label-container {position: relative;z-index: 2;text-align: center;}#sk-6bf3afb8-32db-4413-b590-a424662d212f div.sk-container {/* jupyter's `normalize.less` sets `[hidden] { display: none; }` but bootstrap.min.css set `[hidden] { display: none !important; }` so we also need the `!important` here to be able to override the default hidden behavior on the sphinx rendered scikit-learn.org. See: https://github.com/scikit-learn/scikit-learn/issues/21755 */display: inline-block !important;position: relative;}#sk-6bf3afb8-32db-4413-b590-a424662d212f div.sk-text-repr-fallback {display: none;}</style><div id=\"sk-6bf3afb8-32db-4413-b590-a424662d212f\" class=\"sk-top-container\"><div class=\"sk-text-repr-fallback\"><pre>Pipeline(steps=[(&#x27;scaling&#x27;, StandardScaler()), (&#x27;PCA&#x27;, PCA(n_components=3)),\n",
       "                (&#x27;SVC&#x27;, SVC())])</pre><b>Please rerun this cell to show the HTML repr or trust the notebook.</b></div><div class=\"sk-container\" hidden><div class=\"sk-item sk-dashed-wrapped\"><div class=\"sk-label-container\"><div class=\"sk-label sk-toggleable\"><input class=\"sk-toggleable__control sk-hidden--visually\" id=\"b8400ad3-ec38-4645-99aa-8eaa4da605f2\" type=\"checkbox\" ><label for=\"b8400ad3-ec38-4645-99aa-8eaa4da605f2\" class=\"sk-toggleable__label sk-toggleable__label-arrow\">Pipeline</label><div class=\"sk-toggleable__content\"><pre>Pipeline(steps=[(&#x27;scaling&#x27;, StandardScaler()), (&#x27;PCA&#x27;, PCA(n_components=3)),\n",
       "                (&#x27;SVC&#x27;, SVC())])</pre></div></div></div><div class=\"sk-serial\"><div class=\"sk-item\"><div class=\"sk-estimator sk-toggleable\"><input class=\"sk-toggleable__control sk-hidden--visually\" id=\"27b9c7a4-5e79-4297-851a-3013cfc8f8be\" type=\"checkbox\" ><label for=\"27b9c7a4-5e79-4297-851a-3013cfc8f8be\" class=\"sk-toggleable__label sk-toggleable__label-arrow\">StandardScaler</label><div class=\"sk-toggleable__content\"><pre>StandardScaler()</pre></div></div></div><div class=\"sk-item\"><div class=\"sk-estimator sk-toggleable\"><input class=\"sk-toggleable__control sk-hidden--visually\" id=\"40dbab4f-c457-424d-be7d-559d8d6fc633\" type=\"checkbox\" ><label for=\"40dbab4f-c457-424d-be7d-559d8d6fc633\" class=\"sk-toggleable__label sk-toggleable__label-arrow\">PCA</label><div class=\"sk-toggleable__content\"><pre>PCA(n_components=3)</pre></div></div></div><div class=\"sk-item\"><div class=\"sk-estimator sk-toggleable\"><input class=\"sk-toggleable__control sk-hidden--visually\" id=\"63264def-4fce-4369-8264-11582f23e65a\" type=\"checkbox\" ><label for=\"63264def-4fce-4369-8264-11582f23e65a\" class=\"sk-toggleable__label sk-toggleable__label-arrow\">SVC</label><div class=\"sk-toggleable__content\"><pre>SVC()</pre></div></div></div></div></div></div></div>"
      ],
      "text/plain": [
       "Pipeline(steps=[('scaling', StandardScaler()), ('PCA', PCA(n_components=3)),\n",
       "                ('SVC', SVC())])"
      ]
     },
     "execution_count": 39,
     "metadata": {},
     "output_type": "execute_result"
    }
   ],
   "source": [
    " pipe2.fit(X_train,y_train)"
   ]
  },
  {
   "cell_type": "code",
   "execution_count": 40,
   "id": "d2eed637",
   "metadata": {},
   "outputs": [],
   "source": [
    "y_pred=pipe2.predict(X_train)"
   ]
  },
  {
   "cell_type": "code",
   "execution_count": 41,
   "id": "f464c1a2",
   "metadata": {},
   "outputs": [
    {
     "data": {
      "text/plain": [
       "array([1, 1, 1, 1, 0, 1, 1, 0, 0, 1, 1, 0, 0, 1, 1, 1, 1, 1, 0, 1, 1, 1,\n",
       "       0, 0, 0, 0, 1, 0, 0, 0, 0, 1, 0, 1, 0, 0, 1, 1, 1, 0, 0, 0, 0, 1,\n",
       "       0, 1, 1, 1, 0, 1, 1, 1, 1, 0, 0, 0, 0, 1, 1, 1, 0, 0, 1, 1, 0, 1,\n",
       "       1, 0, 0, 0, 1, 1, 0, 1, 1, 0, 1, 1, 1, 1, 1, 1, 0, 1, 0, 1, 1, 1,\n",
       "       1, 1, 0, 0, 1, 0, 1, 0, 0, 0, 1, 0, 1, 0, 1, 1, 0, 1, 0, 1, 1, 1,\n",
       "       1, 1, 1, 0, 0, 1, 0, 0, 1, 1, 1, 1, 0, 1, 1, 1, 1, 0, 1, 1, 1, 0,\n",
       "       0, 1, 1, 0, 1, 0, 1, 1, 0, 0, 1, 1, 0, 1, 0, 1, 1, 1, 1, 0, 0, 0,\n",
       "       0, 0, 0, 1, 1, 1, 0, 0, 0, 0, 1, 0, 1, 1, 1, 1, 1, 0, 1, 1, 1, 1,\n",
       "       1, 1, 1, 0, 1, 0, 0, 0, 0, 0, 1, 1, 0, 0, 0, 1, 1, 1, 0, 0, 1, 0,\n",
       "       0, 0, 1, 0, 0, 0, 1, 0, 1, 0, 0, 1, 1, 0, 1, 0, 0, 0, 0, 1, 0, 1,\n",
       "       1, 0, 1, 1, 1, 0, 1, 1, 0, 1, 1, 1, 1, 0, 1, 1, 1, 1, 1, 1, 1, 1,\n",
       "       0, 1, 0, 0, 1, 1, 1, 0, 1, 1, 0, 0, 1, 1, 0, 0, 1, 0, 1, 0, 1, 0,\n",
       "       0, 0, 1, 0, 1, 1, 0, 0, 0, 1, 0, 1, 1, 1, 1, 1, 1, 1, 0, 1, 0, 0,\n",
       "       0, 0, 0, 1, 1, 1, 1, 1, 0, 1, 0, 0, 0, 1, 1, 1, 1, 1, 0, 0, 1, 0,\n",
       "       1, 0, 1, 1, 1, 0, 1, 1, 1, 1, 0, 0, 1, 0, 0, 1, 0, 1, 0, 0, 0, 1,\n",
       "       0, 1, 0, 0, 0, 0, 0, 1, 1, 0, 1, 0, 0, 0, 0, 1, 1, 0, 0, 1, 1, 0,\n",
       "       1, 1, 0, 1, 0, 1, 1, 0, 0, 1, 1, 1, 1, 1, 1, 0, 1, 1, 1, 1, 1, 0,\n",
       "       1, 0, 0, 0, 0, 0, 0, 0, 1, 0, 1, 1, 0, 1, 1, 0, 1, 1, 0, 1, 0, 0,\n",
       "       1, 1, 0, 1, 0, 0, 1, 0, 1, 0, 1, 1, 0, 1, 1, 0, 0, 1, 1, 1, 0, 1,\n",
       "       1, 1, 1, 1, 0, 1, 1, 1, 1, 1, 1, 0, 1, 1, 0, 1, 0, 0, 1, 0, 0, 1,\n",
       "       0, 1, 0, 1, 1, 0, 0, 0, 0, 1, 0, 1, 0, 0, 1, 1, 1, 1, 0, 0, 0, 1,\n",
       "       0, 1, 0, 1, 0, 0, 0, 1, 1, 0, 0, 1, 0, 0, 1, 0, 1, 0, 1, 0, 1, 1,\n",
       "       1, 1, 0, 0, 0, 0, 0, 1, 1, 1, 1, 1, 0, 1, 1, 0, 0, 1, 0, 0, 1, 0,\n",
       "       1, 0, 0, 0, 1, 1, 1, 1, 1, 1, 1, 0, 1, 1, 1, 1, 0, 1, 1, 1, 0, 1,\n",
       "       0, 1, 1, 0, 0, 0, 0, 0, 0, 1, 0, 0, 0, 0, 0, 0, 1, 1, 0, 1, 0, 1,\n",
       "       0, 0, 0, 1, 0, 1, 1, 1, 0, 1, 1, 1, 0, 1, 1, 1, 1, 1, 0, 1, 1, 0,\n",
       "       1, 1, 0, 1, 0, 0, 0, 1, 0, 0, 0, 1, 0, 1, 0, 1, 0, 0, 0, 1, 1, 1,\n",
       "       1, 0, 1, 1, 0, 0, 1, 0, 0, 0, 1, 1, 1, 0, 0, 1, 0, 0, 1, 1, 0, 1,\n",
       "       1, 1, 1, 0, 1, 0, 0, 1, 1, 0, 0, 0, 0, 1, 0, 1, 0, 0, 0, 1, 0, 0,\n",
       "       0, 0, 0, 0, 1, 0, 1, 0, 1, 1, 0, 0, 0, 1, 0, 0, 0, 1, 1, 1, 0, 1,\n",
       "       1, 1, 0, 1, 0, 1, 1, 1, 1, 0])"
      ]
     },
     "execution_count": 41,
     "metadata": {},
     "output_type": "execute_result"
    }
   ],
   "source": [
    "y_pred"
   ]
  },
  {
   "cell_type": "code",
   "execution_count": 42,
   "id": "39bbeb51",
   "metadata": {},
   "outputs": [],
   "source": [
    "#column transformer"
   ]
  },
  {
   "cell_type": "code",
   "execution_count": 46,
   "id": "c0b53771",
   "metadata": {},
   "outputs": [],
   "source": [
    "from sklearn.impute import SimpleImputer"
   ]
  },
  {
   "cell_type": "code",
   "execution_count": 47,
   "id": "e0e20ab9",
   "metadata": {},
   "outputs": [],
   "source": [
    "import numpy as np\n",
    "numeric_processor=Pipeline(\n",
    "    steps=[(\"imputation_mean\",SimpleImputer(missing_values=np.nan, strategy=\"mean\")),(\"scaler\",StandardScaler())]\n",
    ")"
   ]
  },
  {
   "cell_type": "code",
   "execution_count": 49,
   "id": "5735dacd",
   "metadata": {},
   "outputs": [
    {
     "data": {
      "text/html": [
       "<style>#sk-8d9a6ec8-f4ab-4473-a69d-b9ad597b4aeb {color: black;background-color: white;}#sk-8d9a6ec8-f4ab-4473-a69d-b9ad597b4aeb pre{padding: 0;}#sk-8d9a6ec8-f4ab-4473-a69d-b9ad597b4aeb div.sk-toggleable {background-color: white;}#sk-8d9a6ec8-f4ab-4473-a69d-b9ad597b4aeb label.sk-toggleable__label {cursor: pointer;display: block;width: 100%;margin-bottom: 0;padding: 0.3em;box-sizing: border-box;text-align: center;}#sk-8d9a6ec8-f4ab-4473-a69d-b9ad597b4aeb label.sk-toggleable__label-arrow:before {content: \"▸\";float: left;margin-right: 0.25em;color: #696969;}#sk-8d9a6ec8-f4ab-4473-a69d-b9ad597b4aeb label.sk-toggleable__label-arrow:hover:before {color: black;}#sk-8d9a6ec8-f4ab-4473-a69d-b9ad597b4aeb div.sk-estimator:hover label.sk-toggleable__label-arrow:before {color: black;}#sk-8d9a6ec8-f4ab-4473-a69d-b9ad597b4aeb div.sk-toggleable__content {max-height: 0;max-width: 0;overflow: hidden;text-align: left;background-color: #f0f8ff;}#sk-8d9a6ec8-f4ab-4473-a69d-b9ad597b4aeb div.sk-toggleable__content pre {margin: 0.2em;color: black;border-radius: 0.25em;background-color: #f0f8ff;}#sk-8d9a6ec8-f4ab-4473-a69d-b9ad597b4aeb input.sk-toggleable__control:checked~div.sk-toggleable__content {max-height: 200px;max-width: 100%;overflow: auto;}#sk-8d9a6ec8-f4ab-4473-a69d-b9ad597b4aeb input.sk-toggleable__control:checked~label.sk-toggleable__label-arrow:before {content: \"▾\";}#sk-8d9a6ec8-f4ab-4473-a69d-b9ad597b4aeb div.sk-estimator input.sk-toggleable__control:checked~label.sk-toggleable__label {background-color: #d4ebff;}#sk-8d9a6ec8-f4ab-4473-a69d-b9ad597b4aeb div.sk-label input.sk-toggleable__control:checked~label.sk-toggleable__label {background-color: #d4ebff;}#sk-8d9a6ec8-f4ab-4473-a69d-b9ad597b4aeb input.sk-hidden--visually {border: 0;clip: rect(1px 1px 1px 1px);clip: rect(1px, 1px, 1px, 1px);height: 1px;margin: -1px;overflow: hidden;padding: 0;position: absolute;width: 1px;}#sk-8d9a6ec8-f4ab-4473-a69d-b9ad597b4aeb div.sk-estimator {font-family: monospace;background-color: #f0f8ff;border: 1px dotted black;border-radius: 0.25em;box-sizing: border-box;margin-bottom: 0.5em;}#sk-8d9a6ec8-f4ab-4473-a69d-b9ad597b4aeb div.sk-estimator:hover {background-color: #d4ebff;}#sk-8d9a6ec8-f4ab-4473-a69d-b9ad597b4aeb div.sk-parallel-item::after {content: \"\";width: 100%;border-bottom: 1px solid gray;flex-grow: 1;}#sk-8d9a6ec8-f4ab-4473-a69d-b9ad597b4aeb div.sk-label:hover label.sk-toggleable__label {background-color: #d4ebff;}#sk-8d9a6ec8-f4ab-4473-a69d-b9ad597b4aeb div.sk-serial::before {content: \"\";position: absolute;border-left: 1px solid gray;box-sizing: border-box;top: 2em;bottom: 0;left: 50%;}#sk-8d9a6ec8-f4ab-4473-a69d-b9ad597b4aeb div.sk-serial {display: flex;flex-direction: column;align-items: center;background-color: white;padding-right: 0.2em;padding-left: 0.2em;}#sk-8d9a6ec8-f4ab-4473-a69d-b9ad597b4aeb div.sk-item {z-index: 1;}#sk-8d9a6ec8-f4ab-4473-a69d-b9ad597b4aeb div.sk-parallel {display: flex;align-items: stretch;justify-content: center;background-color: white;}#sk-8d9a6ec8-f4ab-4473-a69d-b9ad597b4aeb div.sk-parallel::before {content: \"\";position: absolute;border-left: 1px solid gray;box-sizing: border-box;top: 2em;bottom: 0;left: 50%;}#sk-8d9a6ec8-f4ab-4473-a69d-b9ad597b4aeb div.sk-parallel-item {display: flex;flex-direction: column;position: relative;background-color: white;}#sk-8d9a6ec8-f4ab-4473-a69d-b9ad597b4aeb div.sk-parallel-item:first-child::after {align-self: flex-end;width: 50%;}#sk-8d9a6ec8-f4ab-4473-a69d-b9ad597b4aeb div.sk-parallel-item:last-child::after {align-self: flex-start;width: 50%;}#sk-8d9a6ec8-f4ab-4473-a69d-b9ad597b4aeb div.sk-parallel-item:only-child::after {width: 0;}#sk-8d9a6ec8-f4ab-4473-a69d-b9ad597b4aeb div.sk-dashed-wrapped {border: 1px dashed gray;margin: 0 0.4em 0.5em 0.4em;box-sizing: border-box;padding-bottom: 0.4em;background-color: white;position: relative;}#sk-8d9a6ec8-f4ab-4473-a69d-b9ad597b4aeb div.sk-label label {font-family: monospace;font-weight: bold;background-color: white;display: inline-block;line-height: 1.2em;}#sk-8d9a6ec8-f4ab-4473-a69d-b9ad597b4aeb div.sk-label-container {position: relative;z-index: 2;text-align: center;}#sk-8d9a6ec8-f4ab-4473-a69d-b9ad597b4aeb div.sk-container {/* jupyter's `normalize.less` sets `[hidden] { display: none; }` but bootstrap.min.css set `[hidden] { display: none !important; }` so we also need the `!important` here to be able to override the default hidden behavior on the sphinx rendered scikit-learn.org. See: https://github.com/scikit-learn/scikit-learn/issues/21755 */display: inline-block !important;position: relative;}#sk-8d9a6ec8-f4ab-4473-a69d-b9ad597b4aeb div.sk-text-repr-fallback {display: none;}</style><div id=\"sk-8d9a6ec8-f4ab-4473-a69d-b9ad597b4aeb\" class=\"sk-top-container\"><div class=\"sk-text-repr-fallback\"><pre>Pipeline(steps=[(&#x27;imputation_mean&#x27;, SimpleImputer()),\n",
       "                (&#x27;scaler&#x27;, StandardScaler())])</pre><b>Please rerun this cell to show the HTML repr or trust the notebook.</b></div><div class=\"sk-container\" hidden><div class=\"sk-item sk-dashed-wrapped\"><div class=\"sk-label-container\"><div class=\"sk-label sk-toggleable\"><input class=\"sk-toggleable__control sk-hidden--visually\" id=\"f09e9b52-1031-4a08-a814-639b013b709f\" type=\"checkbox\" ><label for=\"f09e9b52-1031-4a08-a814-639b013b709f\" class=\"sk-toggleable__label sk-toggleable__label-arrow\">Pipeline</label><div class=\"sk-toggleable__content\"><pre>Pipeline(steps=[(&#x27;imputation_mean&#x27;, SimpleImputer()),\n",
       "                (&#x27;scaler&#x27;, StandardScaler())])</pre></div></div></div><div class=\"sk-serial\"><div class=\"sk-item\"><div class=\"sk-estimator sk-toggleable\"><input class=\"sk-toggleable__control sk-hidden--visually\" id=\"76fb0707-a1da-4c17-b2b5-7401c2362ecc\" type=\"checkbox\" ><label for=\"76fb0707-a1da-4c17-b2b5-7401c2362ecc\" class=\"sk-toggleable__label sk-toggleable__label-arrow\">SimpleImputer</label><div class=\"sk-toggleable__content\"><pre>SimpleImputer()</pre></div></div></div><div class=\"sk-item\"><div class=\"sk-estimator sk-toggleable\"><input class=\"sk-toggleable__control sk-hidden--visually\" id=\"23d217ca-23d9-481a-98a4-9f9cac0adff0\" type=\"checkbox\" ><label for=\"23d217ca-23d9-481a-98a4-9f9cac0adff0\" class=\"sk-toggleable__label sk-toggleable__label-arrow\">StandardScaler</label><div class=\"sk-toggleable__content\"><pre>StandardScaler()</pre></div></div></div></div></div></div></div>"
      ],
      "text/plain": [
       "Pipeline(steps=[('imputation_mean', SimpleImputer()),\n",
       "                ('scaler', StandardScaler())])"
      ]
     },
     "execution_count": 49,
     "metadata": {},
     "output_type": "execute_result"
    }
   ],
   "source": [
    "numeric_processor"
   ]
  },
  {
   "cell_type": "code",
   "execution_count": 50,
   "id": "dc0198b8",
   "metadata": {},
   "outputs": [],
   "source": [
    "##categoical processing pipeline"
   ]
  },
  {
   "cell_type": "code",
   "execution_count": 53,
   "id": "c478f825",
   "metadata": {},
   "outputs": [],
   "source": [
    "from sklearn.preprocessing import OneHotEncoder\n",
    "import numpy as np\n",
    "categorical_processor=Pipeline(\n",
    "    steps=[(\"imputation_constant\",SimpleImputer(fill_value=\"missing\", strategy=\"constant\")),(\"scaler\",StandardScaler()),(\"onehot\",OneHotEncoder(handle_unknown=\"ignore\"))]\n",
    ")"
   ]
  },
  {
   "cell_type": "code",
   "execution_count": 55,
   "id": "de871b3f",
   "metadata": {},
   "outputs": [
    {
     "data": {
      "text/html": [
       "<style>#sk-4a2f3c70-3cfa-43df-b678-72fcddcdfc0c {color: black;background-color: white;}#sk-4a2f3c70-3cfa-43df-b678-72fcddcdfc0c pre{padding: 0;}#sk-4a2f3c70-3cfa-43df-b678-72fcddcdfc0c div.sk-toggleable {background-color: white;}#sk-4a2f3c70-3cfa-43df-b678-72fcddcdfc0c label.sk-toggleable__label {cursor: pointer;display: block;width: 100%;margin-bottom: 0;padding: 0.3em;box-sizing: border-box;text-align: center;}#sk-4a2f3c70-3cfa-43df-b678-72fcddcdfc0c label.sk-toggleable__label-arrow:before {content: \"▸\";float: left;margin-right: 0.25em;color: #696969;}#sk-4a2f3c70-3cfa-43df-b678-72fcddcdfc0c label.sk-toggleable__label-arrow:hover:before {color: black;}#sk-4a2f3c70-3cfa-43df-b678-72fcddcdfc0c div.sk-estimator:hover label.sk-toggleable__label-arrow:before {color: black;}#sk-4a2f3c70-3cfa-43df-b678-72fcddcdfc0c div.sk-toggleable__content {max-height: 0;max-width: 0;overflow: hidden;text-align: left;background-color: #f0f8ff;}#sk-4a2f3c70-3cfa-43df-b678-72fcddcdfc0c div.sk-toggleable__content pre {margin: 0.2em;color: black;border-radius: 0.25em;background-color: #f0f8ff;}#sk-4a2f3c70-3cfa-43df-b678-72fcddcdfc0c input.sk-toggleable__control:checked~div.sk-toggleable__content {max-height: 200px;max-width: 100%;overflow: auto;}#sk-4a2f3c70-3cfa-43df-b678-72fcddcdfc0c input.sk-toggleable__control:checked~label.sk-toggleable__label-arrow:before {content: \"▾\";}#sk-4a2f3c70-3cfa-43df-b678-72fcddcdfc0c div.sk-estimator input.sk-toggleable__control:checked~label.sk-toggleable__label {background-color: #d4ebff;}#sk-4a2f3c70-3cfa-43df-b678-72fcddcdfc0c div.sk-label input.sk-toggleable__control:checked~label.sk-toggleable__label {background-color: #d4ebff;}#sk-4a2f3c70-3cfa-43df-b678-72fcddcdfc0c input.sk-hidden--visually {border: 0;clip: rect(1px 1px 1px 1px);clip: rect(1px, 1px, 1px, 1px);height: 1px;margin: -1px;overflow: hidden;padding: 0;position: absolute;width: 1px;}#sk-4a2f3c70-3cfa-43df-b678-72fcddcdfc0c div.sk-estimator {font-family: monospace;background-color: #f0f8ff;border: 1px dotted black;border-radius: 0.25em;box-sizing: border-box;margin-bottom: 0.5em;}#sk-4a2f3c70-3cfa-43df-b678-72fcddcdfc0c div.sk-estimator:hover {background-color: #d4ebff;}#sk-4a2f3c70-3cfa-43df-b678-72fcddcdfc0c div.sk-parallel-item::after {content: \"\";width: 100%;border-bottom: 1px solid gray;flex-grow: 1;}#sk-4a2f3c70-3cfa-43df-b678-72fcddcdfc0c div.sk-label:hover label.sk-toggleable__label {background-color: #d4ebff;}#sk-4a2f3c70-3cfa-43df-b678-72fcddcdfc0c div.sk-serial::before {content: \"\";position: absolute;border-left: 1px solid gray;box-sizing: border-box;top: 2em;bottom: 0;left: 50%;}#sk-4a2f3c70-3cfa-43df-b678-72fcddcdfc0c div.sk-serial {display: flex;flex-direction: column;align-items: center;background-color: white;padding-right: 0.2em;padding-left: 0.2em;}#sk-4a2f3c70-3cfa-43df-b678-72fcddcdfc0c div.sk-item {z-index: 1;}#sk-4a2f3c70-3cfa-43df-b678-72fcddcdfc0c div.sk-parallel {display: flex;align-items: stretch;justify-content: center;background-color: white;}#sk-4a2f3c70-3cfa-43df-b678-72fcddcdfc0c div.sk-parallel::before {content: \"\";position: absolute;border-left: 1px solid gray;box-sizing: border-box;top: 2em;bottom: 0;left: 50%;}#sk-4a2f3c70-3cfa-43df-b678-72fcddcdfc0c div.sk-parallel-item {display: flex;flex-direction: column;position: relative;background-color: white;}#sk-4a2f3c70-3cfa-43df-b678-72fcddcdfc0c div.sk-parallel-item:first-child::after {align-self: flex-end;width: 50%;}#sk-4a2f3c70-3cfa-43df-b678-72fcddcdfc0c div.sk-parallel-item:last-child::after {align-self: flex-start;width: 50%;}#sk-4a2f3c70-3cfa-43df-b678-72fcddcdfc0c div.sk-parallel-item:only-child::after {width: 0;}#sk-4a2f3c70-3cfa-43df-b678-72fcddcdfc0c div.sk-dashed-wrapped {border: 1px dashed gray;margin: 0 0.4em 0.5em 0.4em;box-sizing: border-box;padding-bottom: 0.4em;background-color: white;position: relative;}#sk-4a2f3c70-3cfa-43df-b678-72fcddcdfc0c div.sk-label label {font-family: monospace;font-weight: bold;background-color: white;display: inline-block;line-height: 1.2em;}#sk-4a2f3c70-3cfa-43df-b678-72fcddcdfc0c div.sk-label-container {position: relative;z-index: 2;text-align: center;}#sk-4a2f3c70-3cfa-43df-b678-72fcddcdfc0c div.sk-container {/* jupyter's `normalize.less` sets `[hidden] { display: none; }` but bootstrap.min.css set `[hidden] { display: none !important; }` so we also need the `!important` here to be able to override the default hidden behavior on the sphinx rendered scikit-learn.org. See: https://github.com/scikit-learn/scikit-learn/issues/21755 */display: inline-block !important;position: relative;}#sk-4a2f3c70-3cfa-43df-b678-72fcddcdfc0c div.sk-text-repr-fallback {display: none;}</style><div id=\"sk-4a2f3c70-3cfa-43df-b678-72fcddcdfc0c\" class=\"sk-top-container\"><div class=\"sk-text-repr-fallback\"><pre>Pipeline(steps=[(&#x27;imputation_constant&#x27;,\n",
       "                 SimpleImputer(fill_value=&#x27;missing&#x27;, strategy=&#x27;constant&#x27;)),\n",
       "                (&#x27;scaler&#x27;, StandardScaler()),\n",
       "                (&#x27;onehot&#x27;, OneHotEncoder(handle_unknown=&#x27;ignore&#x27;))])</pre><b>Please rerun this cell to show the HTML repr or trust the notebook.</b></div><div class=\"sk-container\" hidden><div class=\"sk-item sk-dashed-wrapped\"><div class=\"sk-label-container\"><div class=\"sk-label sk-toggleable\"><input class=\"sk-toggleable__control sk-hidden--visually\" id=\"a0c9bde7-cc35-4a75-81db-dd634d452841\" type=\"checkbox\" ><label for=\"a0c9bde7-cc35-4a75-81db-dd634d452841\" class=\"sk-toggleable__label sk-toggleable__label-arrow\">Pipeline</label><div class=\"sk-toggleable__content\"><pre>Pipeline(steps=[(&#x27;imputation_constant&#x27;,\n",
       "                 SimpleImputer(fill_value=&#x27;missing&#x27;, strategy=&#x27;constant&#x27;)),\n",
       "                (&#x27;scaler&#x27;, StandardScaler()),\n",
       "                (&#x27;onehot&#x27;, OneHotEncoder(handle_unknown=&#x27;ignore&#x27;))])</pre></div></div></div><div class=\"sk-serial\"><div class=\"sk-item\"><div class=\"sk-estimator sk-toggleable\"><input class=\"sk-toggleable__control sk-hidden--visually\" id=\"4cf26ebc-8a08-41d6-bed5-953617f61045\" type=\"checkbox\" ><label for=\"4cf26ebc-8a08-41d6-bed5-953617f61045\" class=\"sk-toggleable__label sk-toggleable__label-arrow\">SimpleImputer</label><div class=\"sk-toggleable__content\"><pre>SimpleImputer(fill_value=&#x27;missing&#x27;, strategy=&#x27;constant&#x27;)</pre></div></div></div><div class=\"sk-item\"><div class=\"sk-estimator sk-toggleable\"><input class=\"sk-toggleable__control sk-hidden--visually\" id=\"fb472673-3d18-4b61-9449-9f2839b92c70\" type=\"checkbox\" ><label for=\"fb472673-3d18-4b61-9449-9f2839b92c70\" class=\"sk-toggleable__label sk-toggleable__label-arrow\">StandardScaler</label><div class=\"sk-toggleable__content\"><pre>StandardScaler()</pre></div></div></div><div class=\"sk-item\"><div class=\"sk-estimator sk-toggleable\"><input class=\"sk-toggleable__control sk-hidden--visually\" id=\"b983947a-0e22-4392-ba9a-8a6af0b93820\" type=\"checkbox\" ><label for=\"b983947a-0e22-4392-ba9a-8a6af0b93820\" class=\"sk-toggleable__label sk-toggleable__label-arrow\">OneHotEncoder</label><div class=\"sk-toggleable__content\"><pre>OneHotEncoder(handle_unknown=&#x27;ignore&#x27;)</pre></div></div></div></div></div></div></div>"
      ],
      "text/plain": [
       "Pipeline(steps=[('imputation_constant',\n",
       "                 SimpleImputer(fill_value='missing', strategy='constant')),\n",
       "                ('scaler', StandardScaler()),\n",
       "                ('onehot', OneHotEncoder(handle_unknown='ignore'))])"
      ]
     },
     "execution_count": 55,
     "metadata": {},
     "output_type": "execute_result"
    }
   ],
   "source": [
    "categorical_processor"
   ]
  },
  {
   "cell_type": "code",
   "execution_count": 56,
   "id": "194ae5fb",
   "metadata": {},
   "outputs": [],
   "source": [
    "##combining processing techniques"
   ]
  },
  {
   "cell_type": "code",
   "execution_count": 58,
   "id": "b3376dfd",
   "metadata": {},
   "outputs": [],
   "source": [
    "from sklearn.compose import ColumnTransformer"
   ]
  },
  {
   "cell_type": "code",
   "execution_count": 59,
   "id": "3a5b1917",
   "metadata": {},
   "outputs": [],
   "source": [
    "preprocessor=ColumnTransformer([(\"categorical\",categorical_processor,[\"gender\",\"City\"]),(\"numerical\",numeric_processor,[\"age\",\"height\"])])"
   ]
  },
  {
   "cell_type": "code",
   "execution_count": 60,
   "id": "98515da0",
   "metadata": {},
   "outputs": [
    {
     "data": {
      "text/html": [
       "<style>#sk-3f00cf4b-5fab-4e78-8133-d5becab447c9 {color: black;background-color: white;}#sk-3f00cf4b-5fab-4e78-8133-d5becab447c9 pre{padding: 0;}#sk-3f00cf4b-5fab-4e78-8133-d5becab447c9 div.sk-toggleable {background-color: white;}#sk-3f00cf4b-5fab-4e78-8133-d5becab447c9 label.sk-toggleable__label {cursor: pointer;display: block;width: 100%;margin-bottom: 0;padding: 0.3em;box-sizing: border-box;text-align: center;}#sk-3f00cf4b-5fab-4e78-8133-d5becab447c9 label.sk-toggleable__label-arrow:before {content: \"▸\";float: left;margin-right: 0.25em;color: #696969;}#sk-3f00cf4b-5fab-4e78-8133-d5becab447c9 label.sk-toggleable__label-arrow:hover:before {color: black;}#sk-3f00cf4b-5fab-4e78-8133-d5becab447c9 div.sk-estimator:hover label.sk-toggleable__label-arrow:before {color: black;}#sk-3f00cf4b-5fab-4e78-8133-d5becab447c9 div.sk-toggleable__content {max-height: 0;max-width: 0;overflow: hidden;text-align: left;background-color: #f0f8ff;}#sk-3f00cf4b-5fab-4e78-8133-d5becab447c9 div.sk-toggleable__content pre {margin: 0.2em;color: black;border-radius: 0.25em;background-color: #f0f8ff;}#sk-3f00cf4b-5fab-4e78-8133-d5becab447c9 input.sk-toggleable__control:checked~div.sk-toggleable__content {max-height: 200px;max-width: 100%;overflow: auto;}#sk-3f00cf4b-5fab-4e78-8133-d5becab447c9 input.sk-toggleable__control:checked~label.sk-toggleable__label-arrow:before {content: \"▾\";}#sk-3f00cf4b-5fab-4e78-8133-d5becab447c9 div.sk-estimator input.sk-toggleable__control:checked~label.sk-toggleable__label {background-color: #d4ebff;}#sk-3f00cf4b-5fab-4e78-8133-d5becab447c9 div.sk-label input.sk-toggleable__control:checked~label.sk-toggleable__label {background-color: #d4ebff;}#sk-3f00cf4b-5fab-4e78-8133-d5becab447c9 input.sk-hidden--visually {border: 0;clip: rect(1px 1px 1px 1px);clip: rect(1px, 1px, 1px, 1px);height: 1px;margin: -1px;overflow: hidden;padding: 0;position: absolute;width: 1px;}#sk-3f00cf4b-5fab-4e78-8133-d5becab447c9 div.sk-estimator {font-family: monospace;background-color: #f0f8ff;border: 1px dotted black;border-radius: 0.25em;box-sizing: border-box;margin-bottom: 0.5em;}#sk-3f00cf4b-5fab-4e78-8133-d5becab447c9 div.sk-estimator:hover {background-color: #d4ebff;}#sk-3f00cf4b-5fab-4e78-8133-d5becab447c9 div.sk-parallel-item::after {content: \"\";width: 100%;border-bottom: 1px solid gray;flex-grow: 1;}#sk-3f00cf4b-5fab-4e78-8133-d5becab447c9 div.sk-label:hover label.sk-toggleable__label {background-color: #d4ebff;}#sk-3f00cf4b-5fab-4e78-8133-d5becab447c9 div.sk-serial::before {content: \"\";position: absolute;border-left: 1px solid gray;box-sizing: border-box;top: 2em;bottom: 0;left: 50%;}#sk-3f00cf4b-5fab-4e78-8133-d5becab447c9 div.sk-serial {display: flex;flex-direction: column;align-items: center;background-color: white;padding-right: 0.2em;padding-left: 0.2em;}#sk-3f00cf4b-5fab-4e78-8133-d5becab447c9 div.sk-item {z-index: 1;}#sk-3f00cf4b-5fab-4e78-8133-d5becab447c9 div.sk-parallel {display: flex;align-items: stretch;justify-content: center;background-color: white;}#sk-3f00cf4b-5fab-4e78-8133-d5becab447c9 div.sk-parallel::before {content: \"\";position: absolute;border-left: 1px solid gray;box-sizing: border-box;top: 2em;bottom: 0;left: 50%;}#sk-3f00cf4b-5fab-4e78-8133-d5becab447c9 div.sk-parallel-item {display: flex;flex-direction: column;position: relative;background-color: white;}#sk-3f00cf4b-5fab-4e78-8133-d5becab447c9 div.sk-parallel-item:first-child::after {align-self: flex-end;width: 50%;}#sk-3f00cf4b-5fab-4e78-8133-d5becab447c9 div.sk-parallel-item:last-child::after {align-self: flex-start;width: 50%;}#sk-3f00cf4b-5fab-4e78-8133-d5becab447c9 div.sk-parallel-item:only-child::after {width: 0;}#sk-3f00cf4b-5fab-4e78-8133-d5becab447c9 div.sk-dashed-wrapped {border: 1px dashed gray;margin: 0 0.4em 0.5em 0.4em;box-sizing: border-box;padding-bottom: 0.4em;background-color: white;position: relative;}#sk-3f00cf4b-5fab-4e78-8133-d5becab447c9 div.sk-label label {font-family: monospace;font-weight: bold;background-color: white;display: inline-block;line-height: 1.2em;}#sk-3f00cf4b-5fab-4e78-8133-d5becab447c9 div.sk-label-container {position: relative;z-index: 2;text-align: center;}#sk-3f00cf4b-5fab-4e78-8133-d5becab447c9 div.sk-container {/* jupyter's `normalize.less` sets `[hidden] { display: none; }` but bootstrap.min.css set `[hidden] { display: none !important; }` so we also need the `!important` here to be able to override the default hidden behavior on the sphinx rendered scikit-learn.org. See: https://github.com/scikit-learn/scikit-learn/issues/21755 */display: inline-block !important;position: relative;}#sk-3f00cf4b-5fab-4e78-8133-d5becab447c9 div.sk-text-repr-fallback {display: none;}</style><div id=\"sk-3f00cf4b-5fab-4e78-8133-d5becab447c9\" class=\"sk-top-container\"><div class=\"sk-text-repr-fallback\"><pre>ColumnTransformer(transformers=[(&#x27;categorical&#x27;,\n",
       "                                 Pipeline(steps=[(&#x27;imputation_constant&#x27;,\n",
       "                                                  SimpleImputer(fill_value=&#x27;missing&#x27;,\n",
       "                                                                strategy=&#x27;constant&#x27;)),\n",
       "                                                 (&#x27;scaler&#x27;, StandardScaler()),\n",
       "                                                 (&#x27;onehot&#x27;,\n",
       "                                                  OneHotEncoder(handle_unknown=&#x27;ignore&#x27;))]),\n",
       "                                 [&#x27;gender&#x27;, &#x27;City&#x27;]),\n",
       "                                (&#x27;numerical&#x27;,\n",
       "                                 Pipeline(steps=[(&#x27;imputation_mean&#x27;,\n",
       "                                                  SimpleImputer()),\n",
       "                                                 (&#x27;scaler&#x27;, StandardScaler())]),\n",
       "                                 [&#x27;age&#x27;, &#x27;height&#x27;])])</pre><b>Please rerun this cell to show the HTML repr or trust the notebook.</b></div><div class=\"sk-container\" hidden><div class=\"sk-item sk-dashed-wrapped\"><div class=\"sk-label-container\"><div class=\"sk-label sk-toggleable\"><input class=\"sk-toggleable__control sk-hidden--visually\" id=\"6cb49369-4bc0-4ba9-90fe-09ce6443c673\" type=\"checkbox\" ><label for=\"6cb49369-4bc0-4ba9-90fe-09ce6443c673\" class=\"sk-toggleable__label sk-toggleable__label-arrow\">ColumnTransformer</label><div class=\"sk-toggleable__content\"><pre>ColumnTransformer(transformers=[(&#x27;categorical&#x27;,\n",
       "                                 Pipeline(steps=[(&#x27;imputation_constant&#x27;,\n",
       "                                                  SimpleImputer(fill_value=&#x27;missing&#x27;,\n",
       "                                                                strategy=&#x27;constant&#x27;)),\n",
       "                                                 (&#x27;scaler&#x27;, StandardScaler()),\n",
       "                                                 (&#x27;onehot&#x27;,\n",
       "                                                  OneHotEncoder(handle_unknown=&#x27;ignore&#x27;))]),\n",
       "                                 [&#x27;gender&#x27;, &#x27;City&#x27;]),\n",
       "                                (&#x27;numerical&#x27;,\n",
       "                                 Pipeline(steps=[(&#x27;imputation_mean&#x27;,\n",
       "                                                  SimpleImputer()),\n",
       "                                                 (&#x27;scaler&#x27;, StandardScaler())]),\n",
       "                                 [&#x27;age&#x27;, &#x27;height&#x27;])])</pre></div></div></div><div class=\"sk-parallel\"><div class=\"sk-parallel-item\"><div class=\"sk-item\"><div class=\"sk-label-container\"><div class=\"sk-label sk-toggleable\"><input class=\"sk-toggleable__control sk-hidden--visually\" id=\"3db1ce42-35b8-451a-8eca-c0a6b359057a\" type=\"checkbox\" ><label for=\"3db1ce42-35b8-451a-8eca-c0a6b359057a\" class=\"sk-toggleable__label sk-toggleable__label-arrow\">categorical</label><div class=\"sk-toggleable__content\"><pre>[&#x27;gender&#x27;, &#x27;City&#x27;]</pre></div></div></div><div class=\"sk-serial\"><div class=\"sk-item\"><div class=\"sk-serial\"><div class=\"sk-item\"><div class=\"sk-estimator sk-toggleable\"><input class=\"sk-toggleable__control sk-hidden--visually\" id=\"c25588d2-25b2-49fc-ae05-e84ff8ec7fee\" type=\"checkbox\" ><label for=\"c25588d2-25b2-49fc-ae05-e84ff8ec7fee\" class=\"sk-toggleable__label sk-toggleable__label-arrow\">SimpleImputer</label><div class=\"sk-toggleable__content\"><pre>SimpleImputer(fill_value=&#x27;missing&#x27;, strategy=&#x27;constant&#x27;)</pre></div></div></div><div class=\"sk-item\"><div class=\"sk-estimator sk-toggleable\"><input class=\"sk-toggleable__control sk-hidden--visually\" id=\"3cc06bee-a349-49b0-96ab-391cab8d8dfc\" type=\"checkbox\" ><label for=\"3cc06bee-a349-49b0-96ab-391cab8d8dfc\" class=\"sk-toggleable__label sk-toggleable__label-arrow\">StandardScaler</label><div class=\"sk-toggleable__content\"><pre>StandardScaler()</pre></div></div></div><div class=\"sk-item\"><div class=\"sk-estimator sk-toggleable\"><input class=\"sk-toggleable__control sk-hidden--visually\" id=\"e208795c-019c-4dec-a4be-7f02b94c8d55\" type=\"checkbox\" ><label for=\"e208795c-019c-4dec-a4be-7f02b94c8d55\" class=\"sk-toggleable__label sk-toggleable__label-arrow\">OneHotEncoder</label><div class=\"sk-toggleable__content\"><pre>OneHotEncoder(handle_unknown=&#x27;ignore&#x27;)</pre></div></div></div></div></div></div></div></div><div class=\"sk-parallel-item\"><div class=\"sk-item\"><div class=\"sk-label-container\"><div class=\"sk-label sk-toggleable\"><input class=\"sk-toggleable__control sk-hidden--visually\" id=\"e2305e95-87de-419f-b5b8-feeda15d0b2a\" type=\"checkbox\" ><label for=\"e2305e95-87de-419f-b5b8-feeda15d0b2a\" class=\"sk-toggleable__label sk-toggleable__label-arrow\">numerical</label><div class=\"sk-toggleable__content\"><pre>[&#x27;age&#x27;, &#x27;height&#x27;]</pre></div></div></div><div class=\"sk-serial\"><div class=\"sk-item\"><div class=\"sk-serial\"><div class=\"sk-item\"><div class=\"sk-estimator sk-toggleable\"><input class=\"sk-toggleable__control sk-hidden--visually\" id=\"bb483d00-e224-4e99-a0cc-f8d06a2cd4f8\" type=\"checkbox\" ><label for=\"bb483d00-e224-4e99-a0cc-f8d06a2cd4f8\" class=\"sk-toggleable__label sk-toggleable__label-arrow\">SimpleImputer</label><div class=\"sk-toggleable__content\"><pre>SimpleImputer()</pre></div></div></div><div class=\"sk-item\"><div class=\"sk-estimator sk-toggleable\"><input class=\"sk-toggleable__control sk-hidden--visually\" id=\"5c6543e1-3207-4ae2-adcf-a8ed0ebaf486\" type=\"checkbox\" ><label for=\"5c6543e1-3207-4ae2-adcf-a8ed0ebaf486\" class=\"sk-toggleable__label sk-toggleable__label-arrow\">StandardScaler</label><div class=\"sk-toggleable__content\"><pre>StandardScaler()</pre></div></div></div></div></div></div></div></div></div></div></div></div>"
      ],
      "text/plain": [
       "ColumnTransformer(transformers=[('categorical',\n",
       "                                 Pipeline(steps=[('imputation_constant',\n",
       "                                                  SimpleImputer(fill_value='missing',\n",
       "                                                                strategy='constant')),\n",
       "                                                 ('scaler', StandardScaler()),\n",
       "                                                 ('onehot',\n",
       "                                                  OneHotEncoder(handle_unknown='ignore'))]),\n",
       "                                 ['gender', 'City']),\n",
       "                                ('numerical',\n",
       "                                 Pipeline(steps=[('imputation_mean',\n",
       "                                                  SimpleImputer()),\n",
       "                                                 ('scaler', StandardScaler())]),\n",
       "                                 ['age', 'height'])])"
      ]
     },
     "execution_count": 60,
     "metadata": {},
     "output_type": "execute_result"
    }
   ],
   "source": [
    "preprocessor"
   ]
  },
  {
   "cell_type": "code",
   "execution_count": 61,
   "id": "7685b55d",
   "metadata": {},
   "outputs": [],
   "source": [
    "##adding estimator"
   ]
  },
  {
   "cell_type": "code",
   "execution_count": 62,
   "id": "de1fda2e",
   "metadata": {},
   "outputs": [],
   "source": [
    "from sklearn.pipeline import make_pipeline"
   ]
  },
  {
   "cell_type": "code",
   "execution_count": 63,
   "id": "3f673c6f",
   "metadata": {},
   "outputs": [],
   "source": [
    "pipe=make_pipeline(preprocessor,LogisticRegression())"
   ]
  },
  {
   "cell_type": "code",
   "execution_count": 65,
   "id": "e768fd62",
   "metadata": {},
   "outputs": [
    {
     "data": {
      "text/html": [
       "<style>#sk-fc5ce62a-66ea-4604-90ad-07a74b026ba1 {color: black;background-color: white;}#sk-fc5ce62a-66ea-4604-90ad-07a74b026ba1 pre{padding: 0;}#sk-fc5ce62a-66ea-4604-90ad-07a74b026ba1 div.sk-toggleable {background-color: white;}#sk-fc5ce62a-66ea-4604-90ad-07a74b026ba1 label.sk-toggleable__label {cursor: pointer;display: block;width: 100%;margin-bottom: 0;padding: 0.3em;box-sizing: border-box;text-align: center;}#sk-fc5ce62a-66ea-4604-90ad-07a74b026ba1 label.sk-toggleable__label-arrow:before {content: \"▸\";float: left;margin-right: 0.25em;color: #696969;}#sk-fc5ce62a-66ea-4604-90ad-07a74b026ba1 label.sk-toggleable__label-arrow:hover:before {color: black;}#sk-fc5ce62a-66ea-4604-90ad-07a74b026ba1 div.sk-estimator:hover label.sk-toggleable__label-arrow:before {color: black;}#sk-fc5ce62a-66ea-4604-90ad-07a74b026ba1 div.sk-toggleable__content {max-height: 0;max-width: 0;overflow: hidden;text-align: left;background-color: #f0f8ff;}#sk-fc5ce62a-66ea-4604-90ad-07a74b026ba1 div.sk-toggleable__content pre {margin: 0.2em;color: black;border-radius: 0.25em;background-color: #f0f8ff;}#sk-fc5ce62a-66ea-4604-90ad-07a74b026ba1 input.sk-toggleable__control:checked~div.sk-toggleable__content {max-height: 200px;max-width: 100%;overflow: auto;}#sk-fc5ce62a-66ea-4604-90ad-07a74b026ba1 input.sk-toggleable__control:checked~label.sk-toggleable__label-arrow:before {content: \"▾\";}#sk-fc5ce62a-66ea-4604-90ad-07a74b026ba1 div.sk-estimator input.sk-toggleable__control:checked~label.sk-toggleable__label {background-color: #d4ebff;}#sk-fc5ce62a-66ea-4604-90ad-07a74b026ba1 div.sk-label input.sk-toggleable__control:checked~label.sk-toggleable__label {background-color: #d4ebff;}#sk-fc5ce62a-66ea-4604-90ad-07a74b026ba1 input.sk-hidden--visually {border: 0;clip: rect(1px 1px 1px 1px);clip: rect(1px, 1px, 1px, 1px);height: 1px;margin: -1px;overflow: hidden;padding: 0;position: absolute;width: 1px;}#sk-fc5ce62a-66ea-4604-90ad-07a74b026ba1 div.sk-estimator {font-family: monospace;background-color: #f0f8ff;border: 1px dotted black;border-radius: 0.25em;box-sizing: border-box;margin-bottom: 0.5em;}#sk-fc5ce62a-66ea-4604-90ad-07a74b026ba1 div.sk-estimator:hover {background-color: #d4ebff;}#sk-fc5ce62a-66ea-4604-90ad-07a74b026ba1 div.sk-parallel-item::after {content: \"\";width: 100%;border-bottom: 1px solid gray;flex-grow: 1;}#sk-fc5ce62a-66ea-4604-90ad-07a74b026ba1 div.sk-label:hover label.sk-toggleable__label {background-color: #d4ebff;}#sk-fc5ce62a-66ea-4604-90ad-07a74b026ba1 div.sk-serial::before {content: \"\";position: absolute;border-left: 1px solid gray;box-sizing: border-box;top: 2em;bottom: 0;left: 50%;}#sk-fc5ce62a-66ea-4604-90ad-07a74b026ba1 div.sk-serial {display: flex;flex-direction: column;align-items: center;background-color: white;padding-right: 0.2em;padding-left: 0.2em;}#sk-fc5ce62a-66ea-4604-90ad-07a74b026ba1 div.sk-item {z-index: 1;}#sk-fc5ce62a-66ea-4604-90ad-07a74b026ba1 div.sk-parallel {display: flex;align-items: stretch;justify-content: center;background-color: white;}#sk-fc5ce62a-66ea-4604-90ad-07a74b026ba1 div.sk-parallel::before {content: \"\";position: absolute;border-left: 1px solid gray;box-sizing: border-box;top: 2em;bottom: 0;left: 50%;}#sk-fc5ce62a-66ea-4604-90ad-07a74b026ba1 div.sk-parallel-item {display: flex;flex-direction: column;position: relative;background-color: white;}#sk-fc5ce62a-66ea-4604-90ad-07a74b026ba1 div.sk-parallel-item:first-child::after {align-self: flex-end;width: 50%;}#sk-fc5ce62a-66ea-4604-90ad-07a74b026ba1 div.sk-parallel-item:last-child::after {align-self: flex-start;width: 50%;}#sk-fc5ce62a-66ea-4604-90ad-07a74b026ba1 div.sk-parallel-item:only-child::after {width: 0;}#sk-fc5ce62a-66ea-4604-90ad-07a74b026ba1 div.sk-dashed-wrapped {border: 1px dashed gray;margin: 0 0.4em 0.5em 0.4em;box-sizing: border-box;padding-bottom: 0.4em;background-color: white;position: relative;}#sk-fc5ce62a-66ea-4604-90ad-07a74b026ba1 div.sk-label label {font-family: monospace;font-weight: bold;background-color: white;display: inline-block;line-height: 1.2em;}#sk-fc5ce62a-66ea-4604-90ad-07a74b026ba1 div.sk-label-container {position: relative;z-index: 2;text-align: center;}#sk-fc5ce62a-66ea-4604-90ad-07a74b026ba1 div.sk-container {/* jupyter's `normalize.less` sets `[hidden] { display: none; }` but bootstrap.min.css set `[hidden] { display: none !important; }` so we also need the `!important` here to be able to override the default hidden behavior on the sphinx rendered scikit-learn.org. See: https://github.com/scikit-learn/scikit-learn/issues/21755 */display: inline-block !important;position: relative;}#sk-fc5ce62a-66ea-4604-90ad-07a74b026ba1 div.sk-text-repr-fallback {display: none;}</style><div id=\"sk-fc5ce62a-66ea-4604-90ad-07a74b026ba1\" class=\"sk-top-container\"><div class=\"sk-text-repr-fallback\"><pre>Pipeline(steps=[(&#x27;columntransformer&#x27;,\n",
       "                 ColumnTransformer(transformers=[(&#x27;categorical&#x27;,\n",
       "                                                  Pipeline(steps=[(&#x27;imputation_constant&#x27;,\n",
       "                                                                   SimpleImputer(fill_value=&#x27;missing&#x27;,\n",
       "                                                                                 strategy=&#x27;constant&#x27;)),\n",
       "                                                                  (&#x27;scaler&#x27;,\n",
       "                                                                   StandardScaler()),\n",
       "                                                                  (&#x27;onehot&#x27;,\n",
       "                                                                   OneHotEncoder(handle_unknown=&#x27;ignore&#x27;))]),\n",
       "                                                  [&#x27;gender&#x27;, &#x27;City&#x27;]),\n",
       "                                                 (&#x27;numerical&#x27;,\n",
       "                                                  Pipeline(steps=[(&#x27;imputation_mean&#x27;,\n",
       "                                                                   SimpleImputer()),\n",
       "                                                                  (&#x27;scaler&#x27;,\n",
       "                                                                   StandardScaler())]),\n",
       "                                                  [&#x27;age&#x27;, &#x27;height&#x27;])])),\n",
       "                (&#x27;logisticregression&#x27;, LogisticRegression())])</pre><b>Please rerun this cell to show the HTML repr or trust the notebook.</b></div><div class=\"sk-container\" hidden><div class=\"sk-item sk-dashed-wrapped\"><div class=\"sk-label-container\"><div class=\"sk-label sk-toggleable\"><input class=\"sk-toggleable__control sk-hidden--visually\" id=\"ad6ff4c4-77f8-4e77-85e2-e1b61089bef5\" type=\"checkbox\" ><label for=\"ad6ff4c4-77f8-4e77-85e2-e1b61089bef5\" class=\"sk-toggleable__label sk-toggleable__label-arrow\">Pipeline</label><div class=\"sk-toggleable__content\"><pre>Pipeline(steps=[(&#x27;columntransformer&#x27;,\n",
       "                 ColumnTransformer(transformers=[(&#x27;categorical&#x27;,\n",
       "                                                  Pipeline(steps=[(&#x27;imputation_constant&#x27;,\n",
       "                                                                   SimpleImputer(fill_value=&#x27;missing&#x27;,\n",
       "                                                                                 strategy=&#x27;constant&#x27;)),\n",
       "                                                                  (&#x27;scaler&#x27;,\n",
       "                                                                   StandardScaler()),\n",
       "                                                                  (&#x27;onehot&#x27;,\n",
       "                                                                   OneHotEncoder(handle_unknown=&#x27;ignore&#x27;))]),\n",
       "                                                  [&#x27;gender&#x27;, &#x27;City&#x27;]),\n",
       "                                                 (&#x27;numerical&#x27;,\n",
       "                                                  Pipeline(steps=[(&#x27;imputation_mean&#x27;,\n",
       "                                                                   SimpleImputer()),\n",
       "                                                                  (&#x27;scaler&#x27;,\n",
       "                                                                   StandardScaler())]),\n",
       "                                                  [&#x27;age&#x27;, &#x27;height&#x27;])])),\n",
       "                (&#x27;logisticregression&#x27;, LogisticRegression())])</pre></div></div></div><div class=\"sk-serial\"><div class=\"sk-item sk-dashed-wrapped\"><div class=\"sk-label-container\"><div class=\"sk-label sk-toggleable\"><input class=\"sk-toggleable__control sk-hidden--visually\" id=\"ca0de471-1667-420d-bd4a-f1f27902cdc2\" type=\"checkbox\" ><label for=\"ca0de471-1667-420d-bd4a-f1f27902cdc2\" class=\"sk-toggleable__label sk-toggleable__label-arrow\">columntransformer: ColumnTransformer</label><div class=\"sk-toggleable__content\"><pre>ColumnTransformer(transformers=[(&#x27;categorical&#x27;,\n",
       "                                 Pipeline(steps=[(&#x27;imputation_constant&#x27;,\n",
       "                                                  SimpleImputer(fill_value=&#x27;missing&#x27;,\n",
       "                                                                strategy=&#x27;constant&#x27;)),\n",
       "                                                 (&#x27;scaler&#x27;, StandardScaler()),\n",
       "                                                 (&#x27;onehot&#x27;,\n",
       "                                                  OneHotEncoder(handle_unknown=&#x27;ignore&#x27;))]),\n",
       "                                 [&#x27;gender&#x27;, &#x27;City&#x27;]),\n",
       "                                (&#x27;numerical&#x27;,\n",
       "                                 Pipeline(steps=[(&#x27;imputation_mean&#x27;,\n",
       "                                                  SimpleImputer()),\n",
       "                                                 (&#x27;scaler&#x27;, StandardScaler())]),\n",
       "                                 [&#x27;age&#x27;, &#x27;height&#x27;])])</pre></div></div></div><div class=\"sk-parallel\"><div class=\"sk-parallel-item\"><div class=\"sk-item\"><div class=\"sk-label-container\"><div class=\"sk-label sk-toggleable\"><input class=\"sk-toggleable__control sk-hidden--visually\" id=\"b6a29d82-dafd-47dc-bc74-78ee22d52594\" type=\"checkbox\" ><label for=\"b6a29d82-dafd-47dc-bc74-78ee22d52594\" class=\"sk-toggleable__label sk-toggleable__label-arrow\">categorical</label><div class=\"sk-toggleable__content\"><pre>[&#x27;gender&#x27;, &#x27;City&#x27;]</pre></div></div></div><div class=\"sk-serial\"><div class=\"sk-item\"><div class=\"sk-serial\"><div class=\"sk-item\"><div class=\"sk-estimator sk-toggleable\"><input class=\"sk-toggleable__control sk-hidden--visually\" id=\"149826a3-5a55-4a32-b961-40f1b5e8a996\" type=\"checkbox\" ><label for=\"149826a3-5a55-4a32-b961-40f1b5e8a996\" class=\"sk-toggleable__label sk-toggleable__label-arrow\">SimpleImputer</label><div class=\"sk-toggleable__content\"><pre>SimpleImputer(fill_value=&#x27;missing&#x27;, strategy=&#x27;constant&#x27;)</pre></div></div></div><div class=\"sk-item\"><div class=\"sk-estimator sk-toggleable\"><input class=\"sk-toggleable__control sk-hidden--visually\" id=\"1721a5e2-9944-4c89-8747-083868c7fdc8\" type=\"checkbox\" ><label for=\"1721a5e2-9944-4c89-8747-083868c7fdc8\" class=\"sk-toggleable__label sk-toggleable__label-arrow\">StandardScaler</label><div class=\"sk-toggleable__content\"><pre>StandardScaler()</pre></div></div></div><div class=\"sk-item\"><div class=\"sk-estimator sk-toggleable\"><input class=\"sk-toggleable__control sk-hidden--visually\" id=\"89982d83-26fa-483a-8220-23c1ce10a68a\" type=\"checkbox\" ><label for=\"89982d83-26fa-483a-8220-23c1ce10a68a\" class=\"sk-toggleable__label sk-toggleable__label-arrow\">OneHotEncoder</label><div class=\"sk-toggleable__content\"><pre>OneHotEncoder(handle_unknown=&#x27;ignore&#x27;)</pre></div></div></div></div></div></div></div></div><div class=\"sk-parallel-item\"><div class=\"sk-item\"><div class=\"sk-label-container\"><div class=\"sk-label sk-toggleable\"><input class=\"sk-toggleable__control sk-hidden--visually\" id=\"ab9f2c3a-729a-4911-8621-2894ce9f63fc\" type=\"checkbox\" ><label for=\"ab9f2c3a-729a-4911-8621-2894ce9f63fc\" class=\"sk-toggleable__label sk-toggleable__label-arrow\">numerical</label><div class=\"sk-toggleable__content\"><pre>[&#x27;age&#x27;, &#x27;height&#x27;]</pre></div></div></div><div class=\"sk-serial\"><div class=\"sk-item\"><div class=\"sk-serial\"><div class=\"sk-item\"><div class=\"sk-estimator sk-toggleable\"><input class=\"sk-toggleable__control sk-hidden--visually\" id=\"1d176dd8-51e9-4cef-be55-80b1983d644b\" type=\"checkbox\" ><label for=\"1d176dd8-51e9-4cef-be55-80b1983d644b\" class=\"sk-toggleable__label sk-toggleable__label-arrow\">SimpleImputer</label><div class=\"sk-toggleable__content\"><pre>SimpleImputer()</pre></div></div></div><div class=\"sk-item\"><div class=\"sk-estimator sk-toggleable\"><input class=\"sk-toggleable__control sk-hidden--visually\" id=\"4da2c561-b3c5-4ceb-a643-ada0ce4bce46\" type=\"checkbox\" ><label for=\"4da2c561-b3c5-4ceb-a643-ada0ce4bce46\" class=\"sk-toggleable__label sk-toggleable__label-arrow\">StandardScaler</label><div class=\"sk-toggleable__content\"><pre>StandardScaler()</pre></div></div></div></div></div></div></div></div></div></div><div class=\"sk-item\"><div class=\"sk-estimator sk-toggleable\"><input class=\"sk-toggleable__control sk-hidden--visually\" id=\"b7bc293b-1a5c-4e25-b305-c948f411e224\" type=\"checkbox\" ><label for=\"b7bc293b-1a5c-4e25-b305-c948f411e224\" class=\"sk-toggleable__label sk-toggleable__label-arrow\">LogisticRegression</label><div class=\"sk-toggleable__content\"><pre>LogisticRegression()</pre></div></div></div></div></div></div></div>"
      ],
      "text/plain": [
       "Pipeline(steps=[('columntransformer',\n",
       "                 ColumnTransformer(transformers=[('categorical',\n",
       "                                                  Pipeline(steps=[('imputation_constant',\n",
       "                                                                   SimpleImputer(fill_value='missing',\n",
       "                                                                                 strategy='constant')),\n",
       "                                                                  ('scaler',\n",
       "                                                                   StandardScaler()),\n",
       "                                                                  ('onehot',\n",
       "                                                                   OneHotEncoder(handle_unknown='ignore'))]),\n",
       "                                                  ['gender', 'City']),\n",
       "                                                 ('numerical',\n",
       "                                                  Pipeline(steps=[('imputation_mean',\n",
       "                                                                   SimpleImputer()),\n",
       "                                                                  ('scaler',\n",
       "                                                                   StandardScaler())]),\n",
       "                                                  ['age', 'height'])])),\n",
       "                ('logisticregression', LogisticRegression())])"
      ]
     },
     "execution_count": 65,
     "metadata": {},
     "output_type": "execute_result"
    }
   ],
   "source": [
    "pipe"
   ]
  },
  {
   "cell_type": "code",
   "execution_count": null,
   "id": "c89be554",
   "metadata": {},
   "outputs": [],
   "source": []
  }
 ],
 "metadata": {
  "kernelspec": {
   "display_name": "Python 3 (ipykernel)",
   "language": "python",
   "name": "python3"
  },
  "language_info": {
   "codemirror_mode": {
    "name": "ipython",
    "version": 3
   },
   "file_extension": ".py",
   "mimetype": "text/x-python",
   "name": "python",
   "nbconvert_exporter": "python",
   "pygments_lexer": "ipython3",
   "version": "3.9.13"
  }
 },
 "nbformat": 4,
 "nbformat_minor": 5
}
